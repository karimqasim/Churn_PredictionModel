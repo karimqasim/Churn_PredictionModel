{
  "nbformat": 4,
  "nbformat_minor": 0,
  "metadata": {
    "colab": {
      "name": "CustomerChurn_final.ipynb",
      "provenance": [],
      "collapsed_sections": []
    },
    "kernelspec": {
      "name": "python3",
      "display_name": "Python 3"
    },
    "accelerator": "GPU"
  },
  "cells": [
    {
      "cell_type": "markdown",
      "metadata": {
        "id": "SyoG2XGAe_Zy",
        "colab_type": "text"
      },
      "source": [
        "# 1. Introduction\n",
        "This IBM Sample Dataset acquired from Kaggle has information about Telcom customers. Each row represents a customer, and each column contains customer’s attributes described in the Metadata.\n",
        "\n",
        "Basic information:\n",
        "\n",
        "The raw data contains 7043 rows (customers) and 21 columns (19 features features).\n",
        "\n",
        "The “Churn” column is our target.\n",
        "\n",
        "11 missing values in TotalCharges column. "
      ]
    },
    {
      "cell_type": "markdown",
      "metadata": {
        "id": "On-B9W6Ef9_F",
        "colab_type": "text"
      },
      "source": [
        "# Importing Data"
      ]
    },
    {
      "cell_type": "code",
      "metadata": {
        "id": "YySfK-ByucSJ",
        "colab_type": "code",
        "outputId": "9004ccfa-6a2a-44eb-eb91-20d1b8471cde",
        "colab": {
          "resources": {
            "http://localhost:8080/nbextensions/google.colab/files.js": {
              "data": "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",
              "ok": true,
              "headers": [
                [
                  "content-type",
                  "application/javascript"
                ]
              ],
              "status": 200,
              "status_text": ""
            }
          },
          "base_uri": "https://localhost:8080/",
          "height": 71
        }
      },
      "source": [
        "from google.colab import files\n",
        "uploaded = files.upload()"
      ],
      "execution_count": 1,
      "outputs": [
        {
          "output_type": "display_data",
          "data": {
            "text/html": [
              "\n",
              "     <input type=\"file\" id=\"files-afa6868e-3ab9-4d75-8730-f4063d60486b\" name=\"files[]\" multiple disabled />\n",
              "     <output id=\"result-afa6868e-3ab9-4d75-8730-f4063d60486b\">\n",
              "      Upload widget is only available when the cell has been executed in the\n",
              "      current browser session. Please rerun this cell to enable.\n",
              "      </output>\n",
              "      <script src=\"/nbextensions/google.colab/files.js\"></script> "
            ],
            "text/plain": [
              "<IPython.core.display.HTML object>"
            ]
          },
          "metadata": {
            "tags": []
          }
        },
        {
          "output_type": "stream",
          "text": [
            "Saving telco.csv to telco.csv\n"
          ],
          "name": "stdout"
        }
      ]
    },
    {
      "cell_type": "code",
      "metadata": {
        "id": "YxvKnOOovLY5",
        "colab_type": "code",
        "colab": {}
      },
      "source": [
        "import numpy as np\n",
        "import pandas as pd\n",
        "import matplotlib.pyplot as plt \n",
        "import seaborn as sns"
      ],
      "execution_count": 0,
      "outputs": []
    },
    {
      "cell_type": "code",
      "metadata": {
        "id": "Bc49yw5ovEy4",
        "colab_type": "code",
        "colab": {}
      },
      "source": [
        "telcom = pd.read_csv('telco.csv')"
      ],
      "execution_count": 0,
      "outputs": []
    },
    {
      "cell_type": "code",
      "metadata": {
        "id": "zepxbLbc8cah",
        "colab_type": "code",
        "outputId": "3fd84150-95bf-44eb-9986-35919ee66f0c",
        "colab": {
          "base_uri": "https://localhost:8080/",
          "height": 309
        }
      },
      "source": [
        "telcom.head()"
      ],
      "execution_count": 10,
      "outputs": [
        {
          "output_type": "execute_result",
          "data": {
            "text/html": [
              "<div>\n",
              "<style scoped>\n",
              "    .dataframe tbody tr th:only-of-type {\n",
              "        vertical-align: middle;\n",
              "    }\n",
              "\n",
              "    .dataframe tbody tr th {\n",
              "        vertical-align: top;\n",
              "    }\n",
              "\n",
              "    .dataframe thead th {\n",
              "        text-align: right;\n",
              "    }\n",
              "</style>\n",
              "<table border=\"1\" class=\"dataframe\">\n",
              "  <thead>\n",
              "    <tr style=\"text-align: right;\">\n",
              "      <th></th>\n",
              "      <th>customerID</th>\n",
              "      <th>gender</th>\n",
              "      <th>SeniorCitizen</th>\n",
              "      <th>Partner</th>\n",
              "      <th>Dependents</th>\n",
              "      <th>tenure</th>\n",
              "      <th>PhoneService</th>\n",
              "      <th>MultipleLines</th>\n",
              "      <th>InternetService</th>\n",
              "      <th>OnlineSecurity</th>\n",
              "      <th>OnlineBackup</th>\n",
              "      <th>DeviceProtection</th>\n",
              "      <th>TechSupport</th>\n",
              "      <th>StreamingTV</th>\n",
              "      <th>StreamingMovies</th>\n",
              "      <th>Contract</th>\n",
              "      <th>PaperlessBilling</th>\n",
              "      <th>PaymentMethod</th>\n",
              "      <th>MonthlyCharges</th>\n",
              "      <th>TotalCharges</th>\n",
              "      <th>Churn</th>\n",
              "    </tr>\n",
              "  </thead>\n",
              "  <tbody>\n",
              "    <tr>\n",
              "      <th>0</th>\n",
              "      <td>7590-VHVEG</td>\n",
              "      <td>Female</td>\n",
              "      <td>0</td>\n",
              "      <td>Yes</td>\n",
              "      <td>No</td>\n",
              "      <td>1</td>\n",
              "      <td>No</td>\n",
              "      <td>No phone service</td>\n",
              "      <td>DSL</td>\n",
              "      <td>No</td>\n",
              "      <td>Yes</td>\n",
              "      <td>No</td>\n",
              "      <td>No</td>\n",
              "      <td>No</td>\n",
              "      <td>No</td>\n",
              "      <td>Month-to-month</td>\n",
              "      <td>Yes</td>\n",
              "      <td>Electronic check</td>\n",
              "      <td>29.85</td>\n",
              "      <td>29.85</td>\n",
              "      <td>No</td>\n",
              "    </tr>\n",
              "    <tr>\n",
              "      <th>1</th>\n",
              "      <td>5575-GNVDE</td>\n",
              "      <td>Male</td>\n",
              "      <td>0</td>\n",
              "      <td>No</td>\n",
              "      <td>No</td>\n",
              "      <td>34</td>\n",
              "      <td>Yes</td>\n",
              "      <td>No</td>\n",
              "      <td>DSL</td>\n",
              "      <td>Yes</td>\n",
              "      <td>No</td>\n",
              "      <td>Yes</td>\n",
              "      <td>No</td>\n",
              "      <td>No</td>\n",
              "      <td>No</td>\n",
              "      <td>One year</td>\n",
              "      <td>No</td>\n",
              "      <td>Mailed check</td>\n",
              "      <td>56.95</td>\n",
              "      <td>1889.5</td>\n",
              "      <td>No</td>\n",
              "    </tr>\n",
              "    <tr>\n",
              "      <th>2</th>\n",
              "      <td>3668-QPYBK</td>\n",
              "      <td>Male</td>\n",
              "      <td>0</td>\n",
              "      <td>No</td>\n",
              "      <td>No</td>\n",
              "      <td>2</td>\n",
              "      <td>Yes</td>\n",
              "      <td>No</td>\n",
              "      <td>DSL</td>\n",
              "      <td>Yes</td>\n",
              "      <td>Yes</td>\n",
              "      <td>No</td>\n",
              "      <td>No</td>\n",
              "      <td>No</td>\n",
              "      <td>No</td>\n",
              "      <td>Month-to-month</td>\n",
              "      <td>Yes</td>\n",
              "      <td>Mailed check</td>\n",
              "      <td>53.85</td>\n",
              "      <td>108.15</td>\n",
              "      <td>Yes</td>\n",
              "    </tr>\n",
              "    <tr>\n",
              "      <th>3</th>\n",
              "      <td>7795-CFOCW</td>\n",
              "      <td>Male</td>\n",
              "      <td>0</td>\n",
              "      <td>No</td>\n",
              "      <td>No</td>\n",
              "      <td>45</td>\n",
              "      <td>No</td>\n",
              "      <td>No phone service</td>\n",
              "      <td>DSL</td>\n",
              "      <td>Yes</td>\n",
              "      <td>No</td>\n",
              "      <td>Yes</td>\n",
              "      <td>Yes</td>\n",
              "      <td>No</td>\n",
              "      <td>No</td>\n",
              "      <td>One year</td>\n",
              "      <td>No</td>\n",
              "      <td>Bank transfer (automatic)</td>\n",
              "      <td>42.30</td>\n",
              "      <td>1840.75</td>\n",
              "      <td>No</td>\n",
              "    </tr>\n",
              "    <tr>\n",
              "      <th>4</th>\n",
              "      <td>9237-HQITU</td>\n",
              "      <td>Female</td>\n",
              "      <td>0</td>\n",
              "      <td>No</td>\n",
              "      <td>No</td>\n",
              "      <td>2</td>\n",
              "      <td>Yes</td>\n",
              "      <td>No</td>\n",
              "      <td>Fiber optic</td>\n",
              "      <td>No</td>\n",
              "      <td>No</td>\n",
              "      <td>No</td>\n",
              "      <td>No</td>\n",
              "      <td>No</td>\n",
              "      <td>No</td>\n",
              "      <td>Month-to-month</td>\n",
              "      <td>Yes</td>\n",
              "      <td>Electronic check</td>\n",
              "      <td>70.70</td>\n",
              "      <td>151.65</td>\n",
              "      <td>Yes</td>\n",
              "    </tr>\n",
              "  </tbody>\n",
              "</table>\n",
              "</div>"
            ],
            "text/plain": [
              "   customerID  gender  SeniorCitizen  ... MonthlyCharges TotalCharges  Churn\n",
              "0  7590-VHVEG  Female              0  ...          29.85        29.85     No\n",
              "1  5575-GNVDE    Male              0  ...          56.95       1889.5     No\n",
              "2  3668-QPYBK    Male              0  ...          53.85       108.15    Yes\n",
              "3  7795-CFOCW    Male              0  ...          42.30      1840.75     No\n",
              "4  9237-HQITU  Female              0  ...          70.70       151.65    Yes\n",
              "\n",
              "[5 rows x 21 columns]"
            ]
          },
          "metadata": {
            "tags": []
          },
          "execution_count": 10
        }
      ]
    },
    {
      "cell_type": "code",
      "metadata": {
        "id": "BkSUly3BvH_o",
        "colab_type": "code",
        "outputId": "78774bd2-99b1-405f-f2cf-b394e3533a5d",
        "colab": {
          "base_uri": "https://localhost:8080/",
          "height": 459
        }
      },
      "source": [
        "telcom.info()"
      ],
      "execution_count": 0,
      "outputs": [
        {
          "output_type": "stream",
          "text": [
            "<class 'pandas.core.frame.DataFrame'>\n",
            "RangeIndex: 7043 entries, 0 to 7042\n",
            "Data columns (total 21 columns):\n",
            "customerID          7043 non-null object\n",
            "gender              7043 non-null object\n",
            "SeniorCitizen       7043 non-null int64\n",
            "Partner             7043 non-null object\n",
            "Dependents          7043 non-null object\n",
            "tenure              7043 non-null int64\n",
            "PhoneService        7043 non-null object\n",
            "MultipleLines       7043 non-null object\n",
            "InternetService     7043 non-null object\n",
            "OnlineSecurity      7043 non-null object\n",
            "OnlineBackup        7043 non-null object\n",
            "DeviceProtection    7043 non-null object\n",
            "TechSupport         7043 non-null object\n",
            "StreamingTV         7043 non-null object\n",
            "StreamingMovies     7043 non-null object\n",
            "Contract            7043 non-null object\n",
            "PaperlessBilling    7043 non-null object\n",
            "PaymentMethod       7043 non-null object\n",
            "MonthlyCharges      7043 non-null float64\n",
            "TotalCharges        7043 non-null object\n",
            "Churn               7043 non-null object\n",
            "dtypes: float64(1), int64(2), object(18)\n",
            "memory usage: 1.1+ MB\n"
          ],
          "name": "stdout"
        }
      ]
    },
    {
      "cell_type": "code",
      "metadata": {
        "id": "pLeSPMp8VwQI",
        "colab_type": "code",
        "outputId": "9dcbd2fa-b27f-4ea0-e53b-fa8773587ce1",
        "colab": {
          "base_uri": "https://localhost:8080/",
          "height": 297
        }
      },
      "source": [
        "telcom.describe()"
      ],
      "execution_count": 0,
      "outputs": [
        {
          "output_type": "execute_result",
          "data": {
            "text/html": [
              "<div>\n",
              "<style scoped>\n",
              "    .dataframe tbody tr th:only-of-type {\n",
              "        vertical-align: middle;\n",
              "    }\n",
              "\n",
              "    .dataframe tbody tr th {\n",
              "        vertical-align: top;\n",
              "    }\n",
              "\n",
              "    .dataframe thead th {\n",
              "        text-align: right;\n",
              "    }\n",
              "</style>\n",
              "<table border=\"1\" class=\"dataframe\">\n",
              "  <thead>\n",
              "    <tr style=\"text-align: right;\">\n",
              "      <th></th>\n",
              "      <th>SeniorCitizen</th>\n",
              "      <th>tenure</th>\n",
              "      <th>MonthlyCharges</th>\n",
              "    </tr>\n",
              "  </thead>\n",
              "  <tbody>\n",
              "    <tr>\n",
              "      <th>count</th>\n",
              "      <td>7043.000000</td>\n",
              "      <td>7043.000000</td>\n",
              "      <td>7043.000000</td>\n",
              "    </tr>\n",
              "    <tr>\n",
              "      <th>mean</th>\n",
              "      <td>0.162147</td>\n",
              "      <td>32.371149</td>\n",
              "      <td>64.761692</td>\n",
              "    </tr>\n",
              "    <tr>\n",
              "      <th>std</th>\n",
              "      <td>0.368612</td>\n",
              "      <td>24.559481</td>\n",
              "      <td>30.090047</td>\n",
              "    </tr>\n",
              "    <tr>\n",
              "      <th>min</th>\n",
              "      <td>0.000000</td>\n",
              "      <td>0.000000</td>\n",
              "      <td>18.250000</td>\n",
              "    </tr>\n",
              "    <tr>\n",
              "      <th>25%</th>\n",
              "      <td>0.000000</td>\n",
              "      <td>9.000000</td>\n",
              "      <td>35.500000</td>\n",
              "    </tr>\n",
              "    <tr>\n",
              "      <th>50%</th>\n",
              "      <td>0.000000</td>\n",
              "      <td>29.000000</td>\n",
              "      <td>70.350000</td>\n",
              "    </tr>\n",
              "    <tr>\n",
              "      <th>75%</th>\n",
              "      <td>0.000000</td>\n",
              "      <td>55.000000</td>\n",
              "      <td>89.850000</td>\n",
              "    </tr>\n",
              "    <tr>\n",
              "      <th>max</th>\n",
              "      <td>1.000000</td>\n",
              "      <td>72.000000</td>\n",
              "      <td>118.750000</td>\n",
              "    </tr>\n",
              "  </tbody>\n",
              "</table>\n",
              "</div>"
            ],
            "text/plain": [
              "       SeniorCitizen       tenure  MonthlyCharges\n",
              "count    7043.000000  7043.000000     7043.000000\n",
              "mean        0.162147    32.371149       64.761692\n",
              "std         0.368612    24.559481       30.090047\n",
              "min         0.000000     0.000000       18.250000\n",
              "25%         0.000000     9.000000       35.500000\n",
              "50%         0.000000    29.000000       70.350000\n",
              "75%         0.000000    55.000000       89.850000\n",
              "max         1.000000    72.000000      118.750000"
            ]
          },
          "metadata": {
            "tags": []
          },
          "execution_count": 7
        }
      ]
    },
    {
      "cell_type": "markdown",
      "metadata": {
        "id": "3ZBiL6B2f5bZ",
        "colab_type": "text"
      },
      "source": [
        "# Preprocessing"
      ]
    },
    {
      "cell_type": "markdown",
      "metadata": {
        "id": "RqY2lh6AXZl2",
        "colab_type": "text"
      },
      "source": [
        "SeniorCitizen is being read as int64. Change it's type to object for uniformity. "
      ]
    },
    {
      "cell_type": "code",
      "metadata": {
        "id": "7ZuHBGCQXW8b",
        "colab_type": "code",
        "colab": {}
      },
      "source": [
        "telcom['SeniorCitizen'] = telcom['SeniorCitizen'].astype(str).replace({'1':'Yes','0':'No'})"
      ],
      "execution_count": 0,
      "outputs": []
    },
    {
      "cell_type": "code",
      "metadata": {
        "id": "GGfR5BV7YVoZ",
        "colab_type": "code",
        "outputId": "75b6a568-c221-4a76-80e5-bddd9f32759d",
        "colab": {
          "base_uri": "https://localhost:8080/",
          "height": 309
        }
      },
      "source": [
        "telcom.head()"
      ],
      "execution_count": 0,
      "outputs": [
        {
          "output_type": "execute_result",
          "data": {
            "text/html": [
              "<div>\n",
              "<style scoped>\n",
              "    .dataframe tbody tr th:only-of-type {\n",
              "        vertical-align: middle;\n",
              "    }\n",
              "\n",
              "    .dataframe tbody tr th {\n",
              "        vertical-align: top;\n",
              "    }\n",
              "\n",
              "    .dataframe thead th {\n",
              "        text-align: right;\n",
              "    }\n",
              "</style>\n",
              "<table border=\"1\" class=\"dataframe\">\n",
              "  <thead>\n",
              "    <tr style=\"text-align: right;\">\n",
              "      <th></th>\n",
              "      <th>customerID</th>\n",
              "      <th>gender</th>\n",
              "      <th>SeniorCitizen</th>\n",
              "      <th>Partner</th>\n",
              "      <th>Dependents</th>\n",
              "      <th>tenure</th>\n",
              "      <th>PhoneService</th>\n",
              "      <th>MultipleLines</th>\n",
              "      <th>InternetService</th>\n",
              "      <th>OnlineSecurity</th>\n",
              "      <th>OnlineBackup</th>\n",
              "      <th>DeviceProtection</th>\n",
              "      <th>TechSupport</th>\n",
              "      <th>StreamingTV</th>\n",
              "      <th>StreamingMovies</th>\n",
              "      <th>Contract</th>\n",
              "      <th>PaperlessBilling</th>\n",
              "      <th>PaymentMethod</th>\n",
              "      <th>MonthlyCharges</th>\n",
              "      <th>TotalCharges</th>\n",
              "      <th>Churn</th>\n",
              "    </tr>\n",
              "  </thead>\n",
              "  <tbody>\n",
              "    <tr>\n",
              "      <th>0</th>\n",
              "      <td>7590-VHVEG</td>\n",
              "      <td>Female</td>\n",
              "      <td>No</td>\n",
              "      <td>Yes</td>\n",
              "      <td>No</td>\n",
              "      <td>1</td>\n",
              "      <td>No</td>\n",
              "      <td>No phone service</td>\n",
              "      <td>DSL</td>\n",
              "      <td>No</td>\n",
              "      <td>Yes</td>\n",
              "      <td>No</td>\n",
              "      <td>No</td>\n",
              "      <td>No</td>\n",
              "      <td>No</td>\n",
              "      <td>Month-to-month</td>\n",
              "      <td>Yes</td>\n",
              "      <td>Electronic check</td>\n",
              "      <td>29.85</td>\n",
              "      <td>29.85</td>\n",
              "      <td>No</td>\n",
              "    </tr>\n",
              "    <tr>\n",
              "      <th>1</th>\n",
              "      <td>5575-GNVDE</td>\n",
              "      <td>Male</td>\n",
              "      <td>No</td>\n",
              "      <td>No</td>\n",
              "      <td>No</td>\n",
              "      <td>34</td>\n",
              "      <td>Yes</td>\n",
              "      <td>No</td>\n",
              "      <td>DSL</td>\n",
              "      <td>Yes</td>\n",
              "      <td>No</td>\n",
              "      <td>Yes</td>\n",
              "      <td>No</td>\n",
              "      <td>No</td>\n",
              "      <td>No</td>\n",
              "      <td>One year</td>\n",
              "      <td>No</td>\n",
              "      <td>Mailed check</td>\n",
              "      <td>56.95</td>\n",
              "      <td>1889.5</td>\n",
              "      <td>No</td>\n",
              "    </tr>\n",
              "    <tr>\n",
              "      <th>2</th>\n",
              "      <td>3668-QPYBK</td>\n",
              "      <td>Male</td>\n",
              "      <td>No</td>\n",
              "      <td>No</td>\n",
              "      <td>No</td>\n",
              "      <td>2</td>\n",
              "      <td>Yes</td>\n",
              "      <td>No</td>\n",
              "      <td>DSL</td>\n",
              "      <td>Yes</td>\n",
              "      <td>Yes</td>\n",
              "      <td>No</td>\n",
              "      <td>No</td>\n",
              "      <td>No</td>\n",
              "      <td>No</td>\n",
              "      <td>Month-to-month</td>\n",
              "      <td>Yes</td>\n",
              "      <td>Mailed check</td>\n",
              "      <td>53.85</td>\n",
              "      <td>108.15</td>\n",
              "      <td>Yes</td>\n",
              "    </tr>\n",
              "    <tr>\n",
              "      <th>3</th>\n",
              "      <td>7795-CFOCW</td>\n",
              "      <td>Male</td>\n",
              "      <td>No</td>\n",
              "      <td>No</td>\n",
              "      <td>No</td>\n",
              "      <td>45</td>\n",
              "      <td>No</td>\n",
              "      <td>No phone service</td>\n",
              "      <td>DSL</td>\n",
              "      <td>Yes</td>\n",
              "      <td>No</td>\n",
              "      <td>Yes</td>\n",
              "      <td>Yes</td>\n",
              "      <td>No</td>\n",
              "      <td>No</td>\n",
              "      <td>One year</td>\n",
              "      <td>No</td>\n",
              "      <td>Bank transfer (automatic)</td>\n",
              "      <td>42.30</td>\n",
              "      <td>1840.75</td>\n",
              "      <td>No</td>\n",
              "    </tr>\n",
              "    <tr>\n",
              "      <th>4</th>\n",
              "      <td>9237-HQITU</td>\n",
              "      <td>Female</td>\n",
              "      <td>No</td>\n",
              "      <td>No</td>\n",
              "      <td>No</td>\n",
              "      <td>2</td>\n",
              "      <td>Yes</td>\n",
              "      <td>No</td>\n",
              "      <td>Fiber optic</td>\n",
              "      <td>No</td>\n",
              "      <td>No</td>\n",
              "      <td>No</td>\n",
              "      <td>No</td>\n",
              "      <td>No</td>\n",
              "      <td>No</td>\n",
              "      <td>Month-to-month</td>\n",
              "      <td>Yes</td>\n",
              "      <td>Electronic check</td>\n",
              "      <td>70.70</td>\n",
              "      <td>151.65</td>\n",
              "      <td>Yes</td>\n",
              "    </tr>\n",
              "  </tbody>\n",
              "</table>\n",
              "</div>"
            ],
            "text/plain": [
              "   customerID  gender SeniorCitizen  ... MonthlyCharges TotalCharges  Churn\n",
              "0  7590-VHVEG  Female            No  ...          29.85        29.85     No\n",
              "1  5575-GNVDE    Male            No  ...          56.95       1889.5     No\n",
              "2  3668-QPYBK    Male            No  ...          53.85       108.15    Yes\n",
              "3  7795-CFOCW    Male            No  ...          42.30      1840.75     No\n",
              "4  9237-HQITU  Female            No  ...          70.70       151.65    Yes\n",
              "\n",
              "[5 rows x 21 columns]"
            ]
          },
          "metadata": {
            "tags": []
          },
          "execution_count": 9
        }
      ]
    },
    {
      "cell_type": "code",
      "metadata": {
        "id": "ay2ioiQVoSqz",
        "colab_type": "code",
        "outputId": "56df6158-b10a-44a7-9607-ecf899c99540",
        "colab": {
          "base_uri": "https://localhost:8080/",
          "height": 34
        }
      },
      "source": [
        "set(telcom['Churn'])"
      ],
      "execution_count": 0,
      "outputs": [
        {
          "output_type": "execute_result",
          "data": {
            "text/plain": [
              "{'No', 'Yes'}"
            ]
          },
          "metadata": {
            "tags": []
          },
          "execution_count": 10
        }
      ]
    },
    {
      "cell_type": "markdown",
      "metadata": {
        "id": "c0KjEgVwoj0V",
        "colab_type": "text"
      },
      "source": [
        "It is best practice to transform binary classes as 1 and 0. 1 = Churn and 0 = No Churn"
      ]
    },
    {
      "cell_type": "code",
      "metadata": {
        "id": "48WwT285pTvY",
        "colab_type": "code",
        "colab": {}
      },
      "source": [
        "#replace values\n",
        "telcom['Churn'] = telcom['Churn'].replace({'Yes':1,'No':0})"
      ],
      "execution_count": 0,
      "outputs": []
    },
    {
      "cell_type": "code",
      "metadata": {
        "id": "DP4NBaA9pYrs",
        "colab_type": "code",
        "outputId": "99d6b486-8e04-4ba7-96f4-ec34a3868ab1",
        "colab": {
          "base_uri": "https://localhost:8080/",
          "height": 34
        }
      },
      "source": [
        "set(telcom['Churn'])"
      ],
      "execution_count": 0,
      "outputs": [
        {
          "output_type": "execute_result",
          "data": {
            "text/plain": [
              "{0, 1}"
            ]
          },
          "metadata": {
            "tags": []
          },
          "execution_count": 12
        }
      ]
    },
    {
      "cell_type": "code",
      "metadata": {
        "id": "w6WcE0JiCKCX",
        "colab_type": "code",
        "colab": {}
      },
      "source": [
        "#replace 'No internet service' to No for the following columns\n",
        "replace_cols = [ 'OnlineSecurity', 'OnlineBackup', 'DeviceProtection',\n",
        "                'TechSupport','StreamingTV', 'StreamingMovies']\n",
        "for i in replace_cols : \n",
        "    telcom[i]  = telcom[i].replace({'No internet service' : 'No'})"
      ],
      "execution_count": 0,
      "outputs": []
    },
    {
      "cell_type": "markdown",
      "metadata": {
        "id": "k5KHkMAI-Qd0",
        "colab_type": "text"
      },
      "source": [
        "TotalCharges data is being read as object and has 11 missing values being read as blank spaces."
      ]
    },
    {
      "cell_type": "code",
      "metadata": {
        "id": "xILwk0bheHMV",
        "colab_type": "code",
        "outputId": "cd2da3d5-e71b-41b0-a94c-55ed662d137f",
        "colab": {
          "base_uri": "https://localhost:8080/",
          "height": 68
        }
      },
      "source": [
        "# substring to be searched \n",
        "sub =' '\n",
        "  \n",
        "# creating and passsing series to new column \n",
        "telcom['TotalCharges_new']= telcom['TotalCharges'].str.find(sub) \n",
        "  \n",
        "# display \n",
        "telcom['TotalCharges_new'].value_counts()"
      ],
      "execution_count": 0,
      "outputs": [
        {
          "output_type": "execute_result",
          "data": {
            "text/plain": [
              "-1    7032\n",
              " 0      11\n",
              "Name: TotalCharges_new, dtype: int64"
            ]
          },
          "metadata": {
            "tags": []
          },
          "execution_count": 14
        }
      ]
    },
    {
      "cell_type": "code",
      "metadata": {
        "id": "RUXzpeQNgqYR",
        "colab_type": "code",
        "colab": {}
      },
      "source": [
        "telcom.drop(['TotalCharges_new'], axis=1, inplace=True)"
      ],
      "execution_count": 0,
      "outputs": []
    },
    {
      "cell_type": "code",
      "metadata": {
        "id": "Xftu9XFDhRl4",
        "colab_type": "code",
        "outputId": "43ddd2b5-118d-48fb-ac91-ac50a61c0ca3",
        "colab": {
          "base_uri": "https://localhost:8080/",
          "height": 309
        }
      },
      "source": [
        "telcom.head()"
      ],
      "execution_count": 0,
      "outputs": [
        {
          "output_type": "execute_result",
          "data": {
            "text/html": [
              "<div>\n",
              "<style scoped>\n",
              "    .dataframe tbody tr th:only-of-type {\n",
              "        vertical-align: middle;\n",
              "    }\n",
              "\n",
              "    .dataframe tbody tr th {\n",
              "        vertical-align: top;\n",
              "    }\n",
              "\n",
              "    .dataframe thead th {\n",
              "        text-align: right;\n",
              "    }\n",
              "</style>\n",
              "<table border=\"1\" class=\"dataframe\">\n",
              "  <thead>\n",
              "    <tr style=\"text-align: right;\">\n",
              "      <th></th>\n",
              "      <th>customerID</th>\n",
              "      <th>gender</th>\n",
              "      <th>SeniorCitizen</th>\n",
              "      <th>Partner</th>\n",
              "      <th>Dependents</th>\n",
              "      <th>tenure</th>\n",
              "      <th>PhoneService</th>\n",
              "      <th>MultipleLines</th>\n",
              "      <th>InternetService</th>\n",
              "      <th>OnlineSecurity</th>\n",
              "      <th>OnlineBackup</th>\n",
              "      <th>DeviceProtection</th>\n",
              "      <th>TechSupport</th>\n",
              "      <th>StreamingTV</th>\n",
              "      <th>StreamingMovies</th>\n",
              "      <th>Contract</th>\n",
              "      <th>PaperlessBilling</th>\n",
              "      <th>PaymentMethod</th>\n",
              "      <th>MonthlyCharges</th>\n",
              "      <th>TotalCharges</th>\n",
              "      <th>Churn</th>\n",
              "    </tr>\n",
              "  </thead>\n",
              "  <tbody>\n",
              "    <tr>\n",
              "      <th>0</th>\n",
              "      <td>7590-VHVEG</td>\n",
              "      <td>Female</td>\n",
              "      <td>No</td>\n",
              "      <td>Yes</td>\n",
              "      <td>No</td>\n",
              "      <td>1</td>\n",
              "      <td>No</td>\n",
              "      <td>No phone service</td>\n",
              "      <td>DSL</td>\n",
              "      <td>No</td>\n",
              "      <td>Yes</td>\n",
              "      <td>No</td>\n",
              "      <td>No</td>\n",
              "      <td>No</td>\n",
              "      <td>No</td>\n",
              "      <td>Month-to-month</td>\n",
              "      <td>Yes</td>\n",
              "      <td>Electronic check</td>\n",
              "      <td>29.85</td>\n",
              "      <td>29.85</td>\n",
              "      <td>0</td>\n",
              "    </tr>\n",
              "    <tr>\n",
              "      <th>1</th>\n",
              "      <td>5575-GNVDE</td>\n",
              "      <td>Male</td>\n",
              "      <td>No</td>\n",
              "      <td>No</td>\n",
              "      <td>No</td>\n",
              "      <td>34</td>\n",
              "      <td>Yes</td>\n",
              "      <td>No</td>\n",
              "      <td>DSL</td>\n",
              "      <td>Yes</td>\n",
              "      <td>No</td>\n",
              "      <td>Yes</td>\n",
              "      <td>No</td>\n",
              "      <td>No</td>\n",
              "      <td>No</td>\n",
              "      <td>One year</td>\n",
              "      <td>No</td>\n",
              "      <td>Mailed check</td>\n",
              "      <td>56.95</td>\n",
              "      <td>1889.5</td>\n",
              "      <td>0</td>\n",
              "    </tr>\n",
              "    <tr>\n",
              "      <th>2</th>\n",
              "      <td>3668-QPYBK</td>\n",
              "      <td>Male</td>\n",
              "      <td>No</td>\n",
              "      <td>No</td>\n",
              "      <td>No</td>\n",
              "      <td>2</td>\n",
              "      <td>Yes</td>\n",
              "      <td>No</td>\n",
              "      <td>DSL</td>\n",
              "      <td>Yes</td>\n",
              "      <td>Yes</td>\n",
              "      <td>No</td>\n",
              "      <td>No</td>\n",
              "      <td>No</td>\n",
              "      <td>No</td>\n",
              "      <td>Month-to-month</td>\n",
              "      <td>Yes</td>\n",
              "      <td>Mailed check</td>\n",
              "      <td>53.85</td>\n",
              "      <td>108.15</td>\n",
              "      <td>1</td>\n",
              "    </tr>\n",
              "    <tr>\n",
              "      <th>3</th>\n",
              "      <td>7795-CFOCW</td>\n",
              "      <td>Male</td>\n",
              "      <td>No</td>\n",
              "      <td>No</td>\n",
              "      <td>No</td>\n",
              "      <td>45</td>\n",
              "      <td>No</td>\n",
              "      <td>No phone service</td>\n",
              "      <td>DSL</td>\n",
              "      <td>Yes</td>\n",
              "      <td>No</td>\n",
              "      <td>Yes</td>\n",
              "      <td>Yes</td>\n",
              "      <td>No</td>\n",
              "      <td>No</td>\n",
              "      <td>One year</td>\n",
              "      <td>No</td>\n",
              "      <td>Bank transfer (automatic)</td>\n",
              "      <td>42.30</td>\n",
              "      <td>1840.75</td>\n",
              "      <td>0</td>\n",
              "    </tr>\n",
              "    <tr>\n",
              "      <th>4</th>\n",
              "      <td>9237-HQITU</td>\n",
              "      <td>Female</td>\n",
              "      <td>No</td>\n",
              "      <td>No</td>\n",
              "      <td>No</td>\n",
              "      <td>2</td>\n",
              "      <td>Yes</td>\n",
              "      <td>No</td>\n",
              "      <td>Fiber optic</td>\n",
              "      <td>No</td>\n",
              "      <td>No</td>\n",
              "      <td>No</td>\n",
              "      <td>No</td>\n",
              "      <td>No</td>\n",
              "      <td>No</td>\n",
              "      <td>Month-to-month</td>\n",
              "      <td>Yes</td>\n",
              "      <td>Electronic check</td>\n",
              "      <td>70.70</td>\n",
              "      <td>151.65</td>\n",
              "      <td>1</td>\n",
              "    </tr>\n",
              "  </tbody>\n",
              "</table>\n",
              "</div>"
            ],
            "text/plain": [
              "   customerID  gender SeniorCitizen  ... MonthlyCharges TotalCharges  Churn\n",
              "0  7590-VHVEG  Female            No  ...          29.85        29.85      0\n",
              "1  5575-GNVDE    Male            No  ...          56.95       1889.5      0\n",
              "2  3668-QPYBK    Male            No  ...          53.85       108.15      1\n",
              "3  7795-CFOCW    Male            No  ...          42.30      1840.75      0\n",
              "4  9237-HQITU  Female            No  ...          70.70       151.65      1\n",
              "\n",
              "[5 rows x 21 columns]"
            ]
          },
          "metadata": {
            "tags": []
          },
          "execution_count": 16
        }
      ]
    },
    {
      "cell_type": "code",
      "metadata": {
        "id": "jJv1srOO-OG1",
        "colab_type": "code",
        "colab": {}
      },
      "source": [
        "#Replacing spaces with null values in TotalCharges column and changing dtype to float\n",
        "telcom['TotalCharges'] = telcom[\"TotalCharges\"].replace(\" \",np.nan).astype(float)"
      ],
      "execution_count": 0,
      "outputs": []
    },
    {
      "cell_type": "code",
      "metadata": {
        "id": "mr5wpYY8-xOg",
        "colab_type": "code",
        "colab": {}
      },
      "source": [
        "telcom = telcom[telcom[\"TotalCharges\"].notnull()]"
      ],
      "execution_count": 0,
      "outputs": []
    },
    {
      "cell_type": "code",
      "metadata": {
        "id": "l2KBXTpO_P0F",
        "colab_type": "code",
        "outputId": "e8dcc107-9be2-4907-c522-46a687623e7e",
        "colab": {
          "base_uri": "https://localhost:8080/",
          "height": 459
        }
      },
      "source": [
        "telcom.info()"
      ],
      "execution_count": 0,
      "outputs": [
        {
          "output_type": "stream",
          "text": [
            "<class 'pandas.core.frame.DataFrame'>\n",
            "Int64Index: 7032 entries, 0 to 7042\n",
            "Data columns (total 21 columns):\n",
            "customerID          7032 non-null object\n",
            "gender              7032 non-null object\n",
            "SeniorCitizen       7032 non-null object\n",
            "Partner             7032 non-null object\n",
            "Dependents          7032 non-null object\n",
            "tenure              7032 non-null int64\n",
            "PhoneService        7032 non-null object\n",
            "MultipleLines       7032 non-null object\n",
            "InternetService     7032 non-null object\n",
            "OnlineSecurity      7032 non-null object\n",
            "OnlineBackup        7032 non-null object\n",
            "DeviceProtection    7032 non-null object\n",
            "TechSupport         7032 non-null object\n",
            "StreamingTV         7032 non-null object\n",
            "StreamingMovies     7032 non-null object\n",
            "Contract            7032 non-null object\n",
            "PaperlessBilling    7032 non-null object\n",
            "PaymentMethod       7032 non-null object\n",
            "MonthlyCharges      7032 non-null float64\n",
            "TotalCharges        7032 non-null float64\n",
            "Churn               7032 non-null int64\n",
            "dtypes: float64(2), int64(2), object(17)\n",
            "memory usage: 1.2+ MB\n"
          ],
          "name": "stdout"
        }
      ]
    },
    {
      "cell_type": "code",
      "metadata": {
        "id": "2FjrKMtDDQJV",
        "colab_type": "code",
        "outputId": "9e17410a-5311-4a30-b16f-60c6912df42d",
        "colab": {
          "base_uri": "https://localhost:8080/",
          "height": 789
        }
      },
      "source": [
        "telcom.head(15)"
      ],
      "execution_count": 0,
      "outputs": [
        {
          "output_type": "execute_result",
          "data": {
            "text/html": [
              "<div>\n",
              "<style scoped>\n",
              "    .dataframe tbody tr th:only-of-type {\n",
              "        vertical-align: middle;\n",
              "    }\n",
              "\n",
              "    .dataframe tbody tr th {\n",
              "        vertical-align: top;\n",
              "    }\n",
              "\n",
              "    .dataframe thead th {\n",
              "        text-align: right;\n",
              "    }\n",
              "</style>\n",
              "<table border=\"1\" class=\"dataframe\">\n",
              "  <thead>\n",
              "    <tr style=\"text-align: right;\">\n",
              "      <th></th>\n",
              "      <th>customerID</th>\n",
              "      <th>gender</th>\n",
              "      <th>SeniorCitizen</th>\n",
              "      <th>Partner</th>\n",
              "      <th>Dependents</th>\n",
              "      <th>tenure</th>\n",
              "      <th>PhoneService</th>\n",
              "      <th>MultipleLines</th>\n",
              "      <th>InternetService</th>\n",
              "      <th>OnlineSecurity</th>\n",
              "      <th>OnlineBackup</th>\n",
              "      <th>DeviceProtection</th>\n",
              "      <th>TechSupport</th>\n",
              "      <th>StreamingTV</th>\n",
              "      <th>StreamingMovies</th>\n",
              "      <th>Contract</th>\n",
              "      <th>PaperlessBilling</th>\n",
              "      <th>PaymentMethod</th>\n",
              "      <th>MonthlyCharges</th>\n",
              "      <th>TotalCharges</th>\n",
              "      <th>Churn</th>\n",
              "    </tr>\n",
              "  </thead>\n",
              "  <tbody>\n",
              "    <tr>\n",
              "      <th>0</th>\n",
              "      <td>7590-VHVEG</td>\n",
              "      <td>Female</td>\n",
              "      <td>No</td>\n",
              "      <td>Yes</td>\n",
              "      <td>No</td>\n",
              "      <td>1</td>\n",
              "      <td>No</td>\n",
              "      <td>No phone service</td>\n",
              "      <td>DSL</td>\n",
              "      <td>No</td>\n",
              "      <td>Yes</td>\n",
              "      <td>No</td>\n",
              "      <td>No</td>\n",
              "      <td>No</td>\n",
              "      <td>No</td>\n",
              "      <td>Month-to-month</td>\n",
              "      <td>Yes</td>\n",
              "      <td>Electronic check</td>\n",
              "      <td>29.85</td>\n",
              "      <td>29.85</td>\n",
              "      <td>0</td>\n",
              "    </tr>\n",
              "    <tr>\n",
              "      <th>1</th>\n",
              "      <td>5575-GNVDE</td>\n",
              "      <td>Male</td>\n",
              "      <td>No</td>\n",
              "      <td>No</td>\n",
              "      <td>No</td>\n",
              "      <td>34</td>\n",
              "      <td>Yes</td>\n",
              "      <td>No</td>\n",
              "      <td>DSL</td>\n",
              "      <td>Yes</td>\n",
              "      <td>No</td>\n",
              "      <td>Yes</td>\n",
              "      <td>No</td>\n",
              "      <td>No</td>\n",
              "      <td>No</td>\n",
              "      <td>One year</td>\n",
              "      <td>No</td>\n",
              "      <td>Mailed check</td>\n",
              "      <td>56.95</td>\n",
              "      <td>1889.50</td>\n",
              "      <td>0</td>\n",
              "    </tr>\n",
              "    <tr>\n",
              "      <th>2</th>\n",
              "      <td>3668-QPYBK</td>\n",
              "      <td>Male</td>\n",
              "      <td>No</td>\n",
              "      <td>No</td>\n",
              "      <td>No</td>\n",
              "      <td>2</td>\n",
              "      <td>Yes</td>\n",
              "      <td>No</td>\n",
              "      <td>DSL</td>\n",
              "      <td>Yes</td>\n",
              "      <td>Yes</td>\n",
              "      <td>No</td>\n",
              "      <td>No</td>\n",
              "      <td>No</td>\n",
              "      <td>No</td>\n",
              "      <td>Month-to-month</td>\n",
              "      <td>Yes</td>\n",
              "      <td>Mailed check</td>\n",
              "      <td>53.85</td>\n",
              "      <td>108.15</td>\n",
              "      <td>1</td>\n",
              "    </tr>\n",
              "    <tr>\n",
              "      <th>3</th>\n",
              "      <td>7795-CFOCW</td>\n",
              "      <td>Male</td>\n",
              "      <td>No</td>\n",
              "      <td>No</td>\n",
              "      <td>No</td>\n",
              "      <td>45</td>\n",
              "      <td>No</td>\n",
              "      <td>No phone service</td>\n",
              "      <td>DSL</td>\n",
              "      <td>Yes</td>\n",
              "      <td>No</td>\n",
              "      <td>Yes</td>\n",
              "      <td>Yes</td>\n",
              "      <td>No</td>\n",
              "      <td>No</td>\n",
              "      <td>One year</td>\n",
              "      <td>No</td>\n",
              "      <td>Bank transfer (automatic)</td>\n",
              "      <td>42.30</td>\n",
              "      <td>1840.75</td>\n",
              "      <td>0</td>\n",
              "    </tr>\n",
              "    <tr>\n",
              "      <th>4</th>\n",
              "      <td>9237-HQITU</td>\n",
              "      <td>Female</td>\n",
              "      <td>No</td>\n",
              "      <td>No</td>\n",
              "      <td>No</td>\n",
              "      <td>2</td>\n",
              "      <td>Yes</td>\n",
              "      <td>No</td>\n",
              "      <td>Fiber optic</td>\n",
              "      <td>No</td>\n",
              "      <td>No</td>\n",
              "      <td>No</td>\n",
              "      <td>No</td>\n",
              "      <td>No</td>\n",
              "      <td>No</td>\n",
              "      <td>Month-to-month</td>\n",
              "      <td>Yes</td>\n",
              "      <td>Electronic check</td>\n",
              "      <td>70.70</td>\n",
              "      <td>151.65</td>\n",
              "      <td>1</td>\n",
              "    </tr>\n",
              "    <tr>\n",
              "      <th>5</th>\n",
              "      <td>9305-CDSKC</td>\n",
              "      <td>Female</td>\n",
              "      <td>No</td>\n",
              "      <td>No</td>\n",
              "      <td>No</td>\n",
              "      <td>8</td>\n",
              "      <td>Yes</td>\n",
              "      <td>Yes</td>\n",
              "      <td>Fiber optic</td>\n",
              "      <td>No</td>\n",
              "      <td>No</td>\n",
              "      <td>Yes</td>\n",
              "      <td>No</td>\n",
              "      <td>Yes</td>\n",
              "      <td>Yes</td>\n",
              "      <td>Month-to-month</td>\n",
              "      <td>Yes</td>\n",
              "      <td>Electronic check</td>\n",
              "      <td>99.65</td>\n",
              "      <td>820.50</td>\n",
              "      <td>1</td>\n",
              "    </tr>\n",
              "    <tr>\n",
              "      <th>6</th>\n",
              "      <td>1452-KIOVK</td>\n",
              "      <td>Male</td>\n",
              "      <td>No</td>\n",
              "      <td>No</td>\n",
              "      <td>Yes</td>\n",
              "      <td>22</td>\n",
              "      <td>Yes</td>\n",
              "      <td>Yes</td>\n",
              "      <td>Fiber optic</td>\n",
              "      <td>No</td>\n",
              "      <td>Yes</td>\n",
              "      <td>No</td>\n",
              "      <td>No</td>\n",
              "      <td>Yes</td>\n",
              "      <td>No</td>\n",
              "      <td>Month-to-month</td>\n",
              "      <td>Yes</td>\n",
              "      <td>Credit card (automatic)</td>\n",
              "      <td>89.10</td>\n",
              "      <td>1949.40</td>\n",
              "      <td>0</td>\n",
              "    </tr>\n",
              "    <tr>\n",
              "      <th>7</th>\n",
              "      <td>6713-OKOMC</td>\n",
              "      <td>Female</td>\n",
              "      <td>No</td>\n",
              "      <td>No</td>\n",
              "      <td>No</td>\n",
              "      <td>10</td>\n",
              "      <td>No</td>\n",
              "      <td>No phone service</td>\n",
              "      <td>DSL</td>\n",
              "      <td>Yes</td>\n",
              "      <td>No</td>\n",
              "      <td>No</td>\n",
              "      <td>No</td>\n",
              "      <td>No</td>\n",
              "      <td>No</td>\n",
              "      <td>Month-to-month</td>\n",
              "      <td>No</td>\n",
              "      <td>Mailed check</td>\n",
              "      <td>29.75</td>\n",
              "      <td>301.90</td>\n",
              "      <td>0</td>\n",
              "    </tr>\n",
              "    <tr>\n",
              "      <th>8</th>\n",
              "      <td>7892-POOKP</td>\n",
              "      <td>Female</td>\n",
              "      <td>No</td>\n",
              "      <td>Yes</td>\n",
              "      <td>No</td>\n",
              "      <td>28</td>\n",
              "      <td>Yes</td>\n",
              "      <td>Yes</td>\n",
              "      <td>Fiber optic</td>\n",
              "      <td>No</td>\n",
              "      <td>No</td>\n",
              "      <td>Yes</td>\n",
              "      <td>Yes</td>\n",
              "      <td>Yes</td>\n",
              "      <td>Yes</td>\n",
              "      <td>Month-to-month</td>\n",
              "      <td>Yes</td>\n",
              "      <td>Electronic check</td>\n",
              "      <td>104.80</td>\n",
              "      <td>3046.05</td>\n",
              "      <td>1</td>\n",
              "    </tr>\n",
              "    <tr>\n",
              "      <th>9</th>\n",
              "      <td>6388-TABGU</td>\n",
              "      <td>Male</td>\n",
              "      <td>No</td>\n",
              "      <td>No</td>\n",
              "      <td>Yes</td>\n",
              "      <td>62</td>\n",
              "      <td>Yes</td>\n",
              "      <td>No</td>\n",
              "      <td>DSL</td>\n",
              "      <td>Yes</td>\n",
              "      <td>Yes</td>\n",
              "      <td>No</td>\n",
              "      <td>No</td>\n",
              "      <td>No</td>\n",
              "      <td>No</td>\n",
              "      <td>One year</td>\n",
              "      <td>No</td>\n",
              "      <td>Bank transfer (automatic)</td>\n",
              "      <td>56.15</td>\n",
              "      <td>3487.95</td>\n",
              "      <td>0</td>\n",
              "    </tr>\n",
              "    <tr>\n",
              "      <th>10</th>\n",
              "      <td>9763-GRSKD</td>\n",
              "      <td>Male</td>\n",
              "      <td>No</td>\n",
              "      <td>Yes</td>\n",
              "      <td>Yes</td>\n",
              "      <td>13</td>\n",
              "      <td>Yes</td>\n",
              "      <td>No</td>\n",
              "      <td>DSL</td>\n",
              "      <td>Yes</td>\n",
              "      <td>No</td>\n",
              "      <td>No</td>\n",
              "      <td>No</td>\n",
              "      <td>No</td>\n",
              "      <td>No</td>\n",
              "      <td>Month-to-month</td>\n",
              "      <td>Yes</td>\n",
              "      <td>Mailed check</td>\n",
              "      <td>49.95</td>\n",
              "      <td>587.45</td>\n",
              "      <td>0</td>\n",
              "    </tr>\n",
              "    <tr>\n",
              "      <th>11</th>\n",
              "      <td>7469-LKBCI</td>\n",
              "      <td>Male</td>\n",
              "      <td>No</td>\n",
              "      <td>No</td>\n",
              "      <td>No</td>\n",
              "      <td>16</td>\n",
              "      <td>Yes</td>\n",
              "      <td>No</td>\n",
              "      <td>No</td>\n",
              "      <td>No</td>\n",
              "      <td>No</td>\n",
              "      <td>No</td>\n",
              "      <td>No</td>\n",
              "      <td>No</td>\n",
              "      <td>No</td>\n",
              "      <td>Two year</td>\n",
              "      <td>No</td>\n",
              "      <td>Credit card (automatic)</td>\n",
              "      <td>18.95</td>\n",
              "      <td>326.80</td>\n",
              "      <td>0</td>\n",
              "    </tr>\n",
              "    <tr>\n",
              "      <th>12</th>\n",
              "      <td>8091-TTVAX</td>\n",
              "      <td>Male</td>\n",
              "      <td>No</td>\n",
              "      <td>Yes</td>\n",
              "      <td>No</td>\n",
              "      <td>58</td>\n",
              "      <td>Yes</td>\n",
              "      <td>Yes</td>\n",
              "      <td>Fiber optic</td>\n",
              "      <td>No</td>\n",
              "      <td>No</td>\n",
              "      <td>Yes</td>\n",
              "      <td>No</td>\n",
              "      <td>Yes</td>\n",
              "      <td>Yes</td>\n",
              "      <td>One year</td>\n",
              "      <td>No</td>\n",
              "      <td>Credit card (automatic)</td>\n",
              "      <td>100.35</td>\n",
              "      <td>5681.10</td>\n",
              "      <td>0</td>\n",
              "    </tr>\n",
              "    <tr>\n",
              "      <th>13</th>\n",
              "      <td>0280-XJGEX</td>\n",
              "      <td>Male</td>\n",
              "      <td>No</td>\n",
              "      <td>No</td>\n",
              "      <td>No</td>\n",
              "      <td>49</td>\n",
              "      <td>Yes</td>\n",
              "      <td>Yes</td>\n",
              "      <td>Fiber optic</td>\n",
              "      <td>No</td>\n",
              "      <td>Yes</td>\n",
              "      <td>Yes</td>\n",
              "      <td>No</td>\n",
              "      <td>Yes</td>\n",
              "      <td>Yes</td>\n",
              "      <td>Month-to-month</td>\n",
              "      <td>Yes</td>\n",
              "      <td>Bank transfer (automatic)</td>\n",
              "      <td>103.70</td>\n",
              "      <td>5036.30</td>\n",
              "      <td>1</td>\n",
              "    </tr>\n",
              "    <tr>\n",
              "      <th>14</th>\n",
              "      <td>5129-JLPIS</td>\n",
              "      <td>Male</td>\n",
              "      <td>No</td>\n",
              "      <td>No</td>\n",
              "      <td>No</td>\n",
              "      <td>25</td>\n",
              "      <td>Yes</td>\n",
              "      <td>No</td>\n",
              "      <td>Fiber optic</td>\n",
              "      <td>Yes</td>\n",
              "      <td>No</td>\n",
              "      <td>Yes</td>\n",
              "      <td>Yes</td>\n",
              "      <td>Yes</td>\n",
              "      <td>Yes</td>\n",
              "      <td>Month-to-month</td>\n",
              "      <td>Yes</td>\n",
              "      <td>Electronic check</td>\n",
              "      <td>105.50</td>\n",
              "      <td>2686.05</td>\n",
              "      <td>0</td>\n",
              "    </tr>\n",
              "  </tbody>\n",
              "</table>\n",
              "</div>"
            ],
            "text/plain": [
              "    customerID  gender SeniorCitizen  ... MonthlyCharges TotalCharges  Churn\n",
              "0   7590-VHVEG  Female            No  ...          29.85        29.85      0\n",
              "1   5575-GNVDE    Male            No  ...          56.95      1889.50      0\n",
              "2   3668-QPYBK    Male            No  ...          53.85       108.15      1\n",
              "3   7795-CFOCW    Male            No  ...          42.30      1840.75      0\n",
              "4   9237-HQITU  Female            No  ...          70.70       151.65      1\n",
              "5   9305-CDSKC  Female            No  ...          99.65       820.50      1\n",
              "6   1452-KIOVK    Male            No  ...          89.10      1949.40      0\n",
              "7   6713-OKOMC  Female            No  ...          29.75       301.90      0\n",
              "8   7892-POOKP  Female            No  ...         104.80      3046.05      1\n",
              "9   6388-TABGU    Male            No  ...          56.15      3487.95      0\n",
              "10  9763-GRSKD    Male            No  ...          49.95       587.45      0\n",
              "11  7469-LKBCI    Male            No  ...          18.95       326.80      0\n",
              "12  8091-TTVAX    Male            No  ...         100.35      5681.10      0\n",
              "13  0280-XJGEX    Male            No  ...         103.70      5036.30      1\n",
              "14  5129-JLPIS    Male            No  ...         105.50      2686.05      0\n",
              "\n",
              "[15 rows x 21 columns]"
            ]
          },
          "metadata": {
            "tags": []
          },
          "execution_count": 20
        }
      ]
    },
    {
      "cell_type": "code",
      "metadata": {
        "id": "zrONbNuI_b_5",
        "colab_type": "code",
        "outputId": "19619003-e63f-4c56-d0ef-6b70f678ac98",
        "colab": {
          "base_uri": "https://localhost:8080/",
          "height": 391
        }
      },
      "source": [
        "print(telcom.nunique())"
      ],
      "execution_count": 0,
      "outputs": [
        {
          "output_type": "stream",
          "text": [
            "customerID          7032\n",
            "gender                 2\n",
            "SeniorCitizen          2\n",
            "Partner                2\n",
            "Dependents             2\n",
            "tenure                72\n",
            "PhoneService           2\n",
            "MultipleLines          3\n",
            "InternetService        3\n",
            "OnlineSecurity         2\n",
            "OnlineBackup           2\n",
            "DeviceProtection       2\n",
            "TechSupport            2\n",
            "StreamingTV            2\n",
            "StreamingMovies        2\n",
            "Contract               3\n",
            "PaperlessBilling       2\n",
            "PaymentMethod          4\n",
            "MonthlyCharges      1584\n",
            "TotalCharges        6530\n",
            "Churn                  2\n",
            "dtype: int64\n"
          ],
          "name": "stdout"
        }
      ]
    },
    {
      "cell_type": "code",
      "metadata": {
        "id": "D7IqvRavDxOZ",
        "colab_type": "code",
        "colab": {}
      },
      "source": [
        "#Tenure to categorical column\n",
        "def tenure_lab(telcom) :\n",
        "    \n",
        "    if telcom[\"tenure\"] <= 12 :\n",
        "        return \"Tenure_0-12\"\n",
        "    elif (telcom[\"tenure\"] > 12) & (telcom[\"tenure\"] <= 24 ):\n",
        "        return \"Tenure_12-24\"\n",
        "    elif (telcom[\"tenure\"] > 24) & (telcom[\"tenure\"] <= 48) :\n",
        "        return \"Tenure_24-48\"\n",
        "    elif (telcom[\"tenure\"] > 48) & (telcom[\"tenure\"] <= 60) :\n",
        "        return \"Tenure_48-60\"\n",
        "    elif telcom[\"tenure\"] > 60 :\n",
        "        return \"Tenure_gt_60\"\n",
        "telcom[\"tenure_group\"] = telcom.apply(lambda telcom:tenure_lab(telcom), axis = 1)"
      ],
      "execution_count": 0,
      "outputs": []
    },
    {
      "cell_type": "code",
      "metadata": {
        "id": "98vXRk53iyO7",
        "colab_type": "code",
        "colab": {}
      },
      "source": [
        "telcom.drop(['tenure'], axis=1, inplace=True)"
      ],
      "execution_count": 0,
      "outputs": []
    },
    {
      "cell_type": "code",
      "metadata": {
        "id": "RjfH5WO_JnTO",
        "colab_type": "code",
        "outputId": "fbdb70ab-7e6e-469f-89d5-fd0df8d49abd",
        "colab": {
          "base_uri": "https://localhost:8080/",
          "height": 309
        }
      },
      "source": [
        "telcom.head()"
      ],
      "execution_count": 0,
      "outputs": [
        {
          "output_type": "execute_result",
          "data": {
            "text/html": [
              "<div>\n",
              "<style scoped>\n",
              "    .dataframe tbody tr th:only-of-type {\n",
              "        vertical-align: middle;\n",
              "    }\n",
              "\n",
              "    .dataframe tbody tr th {\n",
              "        vertical-align: top;\n",
              "    }\n",
              "\n",
              "    .dataframe thead th {\n",
              "        text-align: right;\n",
              "    }\n",
              "</style>\n",
              "<table border=\"1\" class=\"dataframe\">\n",
              "  <thead>\n",
              "    <tr style=\"text-align: right;\">\n",
              "      <th></th>\n",
              "      <th>customerID</th>\n",
              "      <th>gender</th>\n",
              "      <th>SeniorCitizen</th>\n",
              "      <th>Partner</th>\n",
              "      <th>Dependents</th>\n",
              "      <th>PhoneService</th>\n",
              "      <th>MultipleLines</th>\n",
              "      <th>InternetService</th>\n",
              "      <th>OnlineSecurity</th>\n",
              "      <th>OnlineBackup</th>\n",
              "      <th>DeviceProtection</th>\n",
              "      <th>TechSupport</th>\n",
              "      <th>StreamingTV</th>\n",
              "      <th>StreamingMovies</th>\n",
              "      <th>Contract</th>\n",
              "      <th>PaperlessBilling</th>\n",
              "      <th>PaymentMethod</th>\n",
              "      <th>MonthlyCharges</th>\n",
              "      <th>TotalCharges</th>\n",
              "      <th>Churn</th>\n",
              "      <th>tenure_group</th>\n",
              "    </tr>\n",
              "  </thead>\n",
              "  <tbody>\n",
              "    <tr>\n",
              "      <th>0</th>\n",
              "      <td>7590-VHVEG</td>\n",
              "      <td>Female</td>\n",
              "      <td>No</td>\n",
              "      <td>Yes</td>\n",
              "      <td>No</td>\n",
              "      <td>No</td>\n",
              "      <td>No phone service</td>\n",
              "      <td>DSL</td>\n",
              "      <td>No</td>\n",
              "      <td>Yes</td>\n",
              "      <td>No</td>\n",
              "      <td>No</td>\n",
              "      <td>No</td>\n",
              "      <td>No</td>\n",
              "      <td>Month-to-month</td>\n",
              "      <td>Yes</td>\n",
              "      <td>Electronic check</td>\n",
              "      <td>29.85</td>\n",
              "      <td>29.85</td>\n",
              "      <td>0</td>\n",
              "      <td>Tenure_0-12</td>\n",
              "    </tr>\n",
              "    <tr>\n",
              "      <th>1</th>\n",
              "      <td>5575-GNVDE</td>\n",
              "      <td>Male</td>\n",
              "      <td>No</td>\n",
              "      <td>No</td>\n",
              "      <td>No</td>\n",
              "      <td>Yes</td>\n",
              "      <td>No</td>\n",
              "      <td>DSL</td>\n",
              "      <td>Yes</td>\n",
              "      <td>No</td>\n",
              "      <td>Yes</td>\n",
              "      <td>No</td>\n",
              "      <td>No</td>\n",
              "      <td>No</td>\n",
              "      <td>One year</td>\n",
              "      <td>No</td>\n",
              "      <td>Mailed check</td>\n",
              "      <td>56.95</td>\n",
              "      <td>1889.50</td>\n",
              "      <td>0</td>\n",
              "      <td>Tenure_24-48</td>\n",
              "    </tr>\n",
              "    <tr>\n",
              "      <th>2</th>\n",
              "      <td>3668-QPYBK</td>\n",
              "      <td>Male</td>\n",
              "      <td>No</td>\n",
              "      <td>No</td>\n",
              "      <td>No</td>\n",
              "      <td>Yes</td>\n",
              "      <td>No</td>\n",
              "      <td>DSL</td>\n",
              "      <td>Yes</td>\n",
              "      <td>Yes</td>\n",
              "      <td>No</td>\n",
              "      <td>No</td>\n",
              "      <td>No</td>\n",
              "      <td>No</td>\n",
              "      <td>Month-to-month</td>\n",
              "      <td>Yes</td>\n",
              "      <td>Mailed check</td>\n",
              "      <td>53.85</td>\n",
              "      <td>108.15</td>\n",
              "      <td>1</td>\n",
              "      <td>Tenure_0-12</td>\n",
              "    </tr>\n",
              "    <tr>\n",
              "      <th>3</th>\n",
              "      <td>7795-CFOCW</td>\n",
              "      <td>Male</td>\n",
              "      <td>No</td>\n",
              "      <td>No</td>\n",
              "      <td>No</td>\n",
              "      <td>No</td>\n",
              "      <td>No phone service</td>\n",
              "      <td>DSL</td>\n",
              "      <td>Yes</td>\n",
              "      <td>No</td>\n",
              "      <td>Yes</td>\n",
              "      <td>Yes</td>\n",
              "      <td>No</td>\n",
              "      <td>No</td>\n",
              "      <td>One year</td>\n",
              "      <td>No</td>\n",
              "      <td>Bank transfer (automatic)</td>\n",
              "      <td>42.30</td>\n",
              "      <td>1840.75</td>\n",
              "      <td>0</td>\n",
              "      <td>Tenure_24-48</td>\n",
              "    </tr>\n",
              "    <tr>\n",
              "      <th>4</th>\n",
              "      <td>9237-HQITU</td>\n",
              "      <td>Female</td>\n",
              "      <td>No</td>\n",
              "      <td>No</td>\n",
              "      <td>No</td>\n",
              "      <td>Yes</td>\n",
              "      <td>No</td>\n",
              "      <td>Fiber optic</td>\n",
              "      <td>No</td>\n",
              "      <td>No</td>\n",
              "      <td>No</td>\n",
              "      <td>No</td>\n",
              "      <td>No</td>\n",
              "      <td>No</td>\n",
              "      <td>Month-to-month</td>\n",
              "      <td>Yes</td>\n",
              "      <td>Electronic check</td>\n",
              "      <td>70.70</td>\n",
              "      <td>151.65</td>\n",
              "      <td>1</td>\n",
              "      <td>Tenure_0-12</td>\n",
              "    </tr>\n",
              "  </tbody>\n",
              "</table>\n",
              "</div>"
            ],
            "text/plain": [
              "   customerID  gender SeniorCitizen  ... TotalCharges Churn  tenure_group\n",
              "0  7590-VHVEG  Female            No  ...        29.85     0   Tenure_0-12\n",
              "1  5575-GNVDE    Male            No  ...      1889.50     0  Tenure_24-48\n",
              "2  3668-QPYBK    Male            No  ...       108.15     1   Tenure_0-12\n",
              "3  7795-CFOCW    Male            No  ...      1840.75     0  Tenure_24-48\n",
              "4  9237-HQITU  Female            No  ...       151.65     1   Tenure_0-12\n",
              "\n",
              "[5 rows x 21 columns]"
            ]
          },
          "metadata": {
            "tags": []
          },
          "execution_count": 24
        }
      ]
    },
    {
      "cell_type": "markdown",
      "metadata": {
        "id": "PVqj1ZyfGkGU",
        "colab_type": "text"
      },
      "source": [
        "# Separate numerical and categorical columns"
      ]
    },
    {
      "cell_type": "markdown",
      "metadata": {
        "id": "U75ixGYdJzY8",
        "colab_type": "text"
      },
      "source": [
        "We will now separate categorical and numerical variables from the DataFrame with a customized categorical vs. numerical unique value count threshold."
      ]
    },
    {
      "cell_type": "code",
      "metadata": {
        "id": "QFM4im-SGoB3",
        "colab_type": "code",
        "colab": {}
      },
      "source": [
        "# Store customerID and Churn column names\n",
        "custid = ['customerID']\n",
        "target = ['Churn']"
      ],
      "execution_count": 0,
      "outputs": []
    },
    {
      "cell_type": "code",
      "metadata": {
        "id": "ME_hYlMFJ-Ow",
        "colab_type": "code",
        "outputId": "7efc7fe5-6fc0-47f2-a8b9-6022413f5b8e",
        "colab": {
          "base_uri": "https://localhost:8080/",
          "height": 323
        }
      },
      "source": [
        "# Store categorical column names that have less than 6 unique values.\n",
        "categorical = telcom.nunique()[telcom.nunique() < 6].keys().tolist()\n",
        "categorical"
      ],
      "execution_count": 0,
      "outputs": [
        {
          "output_type": "execute_result",
          "data": {
            "text/plain": [
              "['gender',\n",
              " 'SeniorCitizen',\n",
              " 'Partner',\n",
              " 'Dependents',\n",
              " 'PhoneService',\n",
              " 'MultipleLines',\n",
              " 'InternetService',\n",
              " 'OnlineSecurity',\n",
              " 'OnlineBackup',\n",
              " 'DeviceProtection',\n",
              " 'TechSupport',\n",
              " 'StreamingTV',\n",
              " 'StreamingMovies',\n",
              " 'Contract',\n",
              " 'PaperlessBilling',\n",
              " 'PaymentMethod',\n",
              " 'Churn',\n",
              " 'tenure_group']"
            ]
          },
          "metadata": {
            "tags": []
          },
          "execution_count": 26
        }
      ]
    },
    {
      "cell_type": "code",
      "metadata": {
        "id": "rAY9EeYJKha6",
        "colab_type": "code",
        "colab": {}
      },
      "source": [
        "# Remove target from the list of categorical variables\n",
        "categorical.remove(target[0])"
      ],
      "execution_count": 0,
      "outputs": []
    },
    {
      "cell_type": "code",
      "metadata": {
        "id": "5ubQvF0OK9Dy",
        "colab_type": "code",
        "outputId": "5ac897c6-e178-4341-9939-f3b80e72744d",
        "colab": {
          "base_uri": "https://localhost:8080/",
          "height": 34
        }
      },
      "source": [
        "# Store numerical column names\n",
        "numerical = [x for x in telcom.columns if x not in custid + target + categorical]\n",
        "numerical"
      ],
      "execution_count": 0,
      "outputs": [
        {
          "output_type": "execute_result",
          "data": {
            "text/plain": [
              "['MonthlyCharges', 'TotalCharges']"
            ]
          },
          "metadata": {
            "tags": []
          },
          "execution_count": 28
        }
      ]
    },
    {
      "cell_type": "code",
      "metadata": {
        "id": "ywAcbuE6OaFs",
        "colab_type": "code",
        "outputId": "bc6061c8-6fef-4273-ee7f-08cd684c7d66",
        "colab": {
          "base_uri": "https://localhost:8080/",
          "height": 119
        }
      },
      "source": [
        "telcom.columns"
      ],
      "execution_count": 0,
      "outputs": [
        {
          "output_type": "execute_result",
          "data": {
            "text/plain": [
              "Index(['customerID', 'gender', 'SeniorCitizen', 'Partner', 'Dependents',\n",
              "       'PhoneService', 'MultipleLines', 'InternetService', 'OnlineSecurity',\n",
              "       'OnlineBackup', 'DeviceProtection', 'TechSupport', 'StreamingTV',\n",
              "       'StreamingMovies', 'Contract', 'PaperlessBilling', 'PaymentMethod',\n",
              "       'MonthlyCharges', 'TotalCharges', 'Churn', 'tenure_group'],\n",
              "      dtype='object')"
            ]
          },
          "metadata": {
            "tags": []
          },
          "execution_count": 29
        }
      ]
    },
    {
      "cell_type": "markdown",
      "metadata": {
        "id": "AvjES25lNuit",
        "colab_type": "text"
      },
      "source": [
        "# Encode categorical and scale numerical variables"
      ]
    },
    {
      "cell_type": "code",
      "metadata": {
        "id": "q2kjFAK4NiFm",
        "colab_type": "code",
        "colab": {}
      },
      "source": [
        "# Perform one-hot encoding to categorical variables \n",
        "telcom2 = pd.get_dummies(data = telcom, columns = categorical, drop_first=True)"
      ],
      "execution_count": 0,
      "outputs": []
    },
    {
      "cell_type": "code",
      "metadata": {
        "id": "GHsB-vPTO8yT",
        "colab_type": "code",
        "colab": {}
      },
      "source": [
        "#Import StandardScaler \n",
        "from sklearn.preprocessing import StandardScaler\n",
        "\n",
        "# Initialize StandardScaler instance\n",
        "scaler = StandardScaler()\n",
        "\n",
        "# Fit and transform the scaler on numerical columns\n",
        "scaled_numerical = scaler.fit_transform(telcom2[numerical])\n",
        "\n",
        "# Build a DataFrame from scaled_numerical\n",
        "scaled_numerical = pd.DataFrame(scaled_numerical, columns=numerical)\n"
      ],
      "execution_count": 0,
      "outputs": []
    },
    {
      "cell_type": "code",
      "metadata": {
        "id": "aljAvMZhP9P4",
        "colab_type": "code",
        "outputId": "4ed23ab7-510e-436d-e1f1-5ff664bbe480",
        "colab": {
          "base_uri": "https://localhost:8080/",
          "height": 136
        }
      },
      "source": [
        "scaled_numerical.info()"
      ],
      "execution_count": 0,
      "outputs": [
        {
          "output_type": "stream",
          "text": [
            "<class 'pandas.core.frame.DataFrame'>\n",
            "RangeIndex: 7032 entries, 0 to 7031\n",
            "Data columns (total 2 columns):\n",
            "MonthlyCharges    7032 non-null float64\n",
            "TotalCharges      7032 non-null float64\n",
            "dtypes: float64(2)\n",
            "memory usage: 110.0 KB\n"
          ],
          "name": "stdout"
        }
      ]
    },
    {
      "cell_type": "markdown",
      "metadata": {
        "id": "KeNlIf8RQM4c",
        "colab_type": "text"
      },
      "source": [
        "First, we drop the non-scaled numerical columns from the dataframe. Then we merge it with the scaled numerical data. \n"
      ]
    },
    {
      "cell_type": "code",
      "metadata": {
        "id": "Xv5HDNNsQI5R",
        "colab_type": "code",
        "colab": {}
      },
      "source": [
        "telcom2 = telcom2.drop(columns=numerical, axis=1)"
      ],
      "execution_count": 0,
      "outputs": []
    },
    {
      "cell_type": "code",
      "metadata": {
        "id": "KTH7dmcJtcut",
        "colab_type": "code",
        "outputId": "730f88ab-9d67-4540-ab7f-a3a04948f319",
        "colab": {
          "base_uri": "https://localhost:8080/",
          "height": 561
        }
      },
      "source": [
        "telcom2.info()"
      ],
      "execution_count": 0,
      "outputs": [
        {
          "output_type": "stream",
          "text": [
            "<class 'pandas.core.frame.DataFrame'>\n",
            "Int64Index: 7032 entries, 0 to 7042\n",
            "Data columns (total 27 columns):\n",
            "customerID                               7032 non-null object\n",
            "Churn                                    7032 non-null int64\n",
            "gender_Male                              7032 non-null uint8\n",
            "SeniorCitizen_Yes                        7032 non-null uint8\n",
            "Partner_Yes                              7032 non-null uint8\n",
            "Dependents_Yes                           7032 non-null uint8\n",
            "PhoneService_Yes                         7032 non-null uint8\n",
            "MultipleLines_No phone service           7032 non-null uint8\n",
            "MultipleLines_Yes                        7032 non-null uint8\n",
            "InternetService_Fiber optic              7032 non-null uint8\n",
            "InternetService_No                       7032 non-null uint8\n",
            "OnlineSecurity_Yes                       7032 non-null uint8\n",
            "OnlineBackup_Yes                         7032 non-null uint8\n",
            "DeviceProtection_Yes                     7032 non-null uint8\n",
            "TechSupport_Yes                          7032 non-null uint8\n",
            "StreamingTV_Yes                          7032 non-null uint8\n",
            "StreamingMovies_Yes                      7032 non-null uint8\n",
            "Contract_One year                        7032 non-null uint8\n",
            "Contract_Two year                        7032 non-null uint8\n",
            "PaperlessBilling_Yes                     7032 non-null uint8\n",
            "PaymentMethod_Credit card (automatic)    7032 non-null uint8\n",
            "PaymentMethod_Electronic check           7032 non-null uint8\n",
            "PaymentMethod_Mailed check               7032 non-null uint8\n",
            "tenure_group_Tenure_12-24                7032 non-null uint8\n",
            "tenure_group_Tenure_24-48                7032 non-null uint8\n",
            "tenure_group_Tenure_48-60                7032 non-null uint8\n",
            "tenure_group_Tenure_gt_60                7032 non-null uint8\n",
            "dtypes: int64(1), object(1), uint8(25)\n",
            "memory usage: 336.5+ KB\n"
          ],
          "name": "stdout"
        }
      ]
    },
    {
      "cell_type": "code",
      "metadata": {
        "id": "r7GwGmGXQlgo",
        "colab_type": "code",
        "colab": {}
      },
      "source": [
        "telcom_final = telcom2.merge(right=scaled_numerical,\n",
        "                    how='left',\n",
        "                    left_index=True,\n",
        "                    right_index=True\n",
        "                    )"
      ],
      "execution_count": 0,
      "outputs": []
    },
    {
      "cell_type": "code",
      "metadata": {
        "id": "95HympiJREEW",
        "colab_type": "code",
        "outputId": "1f4e2207-6d56-41b9-f093-73d97ccfa90e",
        "colab": {
          "base_uri": "https://localhost:8080/",
          "height": 595
        }
      },
      "source": [
        "telcom_final.info()"
      ],
      "execution_count": 0,
      "outputs": [
        {
          "output_type": "stream",
          "text": [
            "<class 'pandas.core.frame.DataFrame'>\n",
            "Int64Index: 7032 entries, 0 to 7042\n",
            "Data columns (total 29 columns):\n",
            "customerID                               7032 non-null object\n",
            "Churn                                    7032 non-null int64\n",
            "gender_Male                              7032 non-null uint8\n",
            "SeniorCitizen_Yes                        7032 non-null uint8\n",
            "Partner_Yes                              7032 non-null uint8\n",
            "Dependents_Yes                           7032 non-null uint8\n",
            "PhoneService_Yes                         7032 non-null uint8\n",
            "MultipleLines_No phone service           7032 non-null uint8\n",
            "MultipleLines_Yes                        7032 non-null uint8\n",
            "InternetService_Fiber optic              7032 non-null uint8\n",
            "InternetService_No                       7032 non-null uint8\n",
            "OnlineSecurity_Yes                       7032 non-null uint8\n",
            "OnlineBackup_Yes                         7032 non-null uint8\n",
            "DeviceProtection_Yes                     7032 non-null uint8\n",
            "TechSupport_Yes                          7032 non-null uint8\n",
            "StreamingTV_Yes                          7032 non-null uint8\n",
            "StreamingMovies_Yes                      7032 non-null uint8\n",
            "Contract_One year                        7032 non-null uint8\n",
            "Contract_Two year                        7032 non-null uint8\n",
            "PaperlessBilling_Yes                     7032 non-null uint8\n",
            "PaymentMethod_Credit card (automatic)    7032 non-null uint8\n",
            "PaymentMethod_Electronic check           7032 non-null uint8\n",
            "PaymentMethod_Mailed check               7032 non-null uint8\n",
            "tenure_group_Tenure_12-24                7032 non-null uint8\n",
            "tenure_group_Tenure_24-48                7032 non-null uint8\n",
            "tenure_group_Tenure_48-60                7032 non-null uint8\n",
            "tenure_group_Tenure_gt_60                7032 non-null uint8\n",
            "MonthlyCharges                           7021 non-null float64\n",
            "TotalCharges                             7021 non-null float64\n",
            "dtypes: float64(2), int64(1), object(1), uint8(25)\n",
            "memory usage: 766.4+ KB\n"
          ],
          "name": "stdout"
        }
      ]
    },
    {
      "cell_type": "code",
      "metadata": {
        "id": "7FdMp3sOt084",
        "colab_type": "code",
        "colab": {}
      },
      "source": [
        "telcom_final.dropna(inplace=True)"
      ],
      "execution_count": 0,
      "outputs": []
    },
    {
      "cell_type": "code",
      "metadata": {
        "id": "oGhiDHWXt4-H",
        "colab_type": "code",
        "outputId": "572e423a-c575-4ef9-c735-cb46e77b11f2",
        "colab": {
          "base_uri": "https://localhost:8080/",
          "height": 595
        }
      },
      "source": [
        "telcom_final.info()"
      ],
      "execution_count": 0,
      "outputs": [
        {
          "output_type": "stream",
          "text": [
            "<class 'pandas.core.frame.DataFrame'>\n",
            "Int64Index: 7021 entries, 0 to 7031\n",
            "Data columns (total 29 columns):\n",
            "customerID                               7021 non-null object\n",
            "Churn                                    7021 non-null int64\n",
            "gender_Male                              7021 non-null uint8\n",
            "SeniorCitizen_Yes                        7021 non-null uint8\n",
            "Partner_Yes                              7021 non-null uint8\n",
            "Dependents_Yes                           7021 non-null uint8\n",
            "PhoneService_Yes                         7021 non-null uint8\n",
            "MultipleLines_No phone service           7021 non-null uint8\n",
            "MultipleLines_Yes                        7021 non-null uint8\n",
            "InternetService_Fiber optic              7021 non-null uint8\n",
            "InternetService_No                       7021 non-null uint8\n",
            "OnlineSecurity_Yes                       7021 non-null uint8\n",
            "OnlineBackup_Yes                         7021 non-null uint8\n",
            "DeviceProtection_Yes                     7021 non-null uint8\n",
            "TechSupport_Yes                          7021 non-null uint8\n",
            "StreamingTV_Yes                          7021 non-null uint8\n",
            "StreamingMovies_Yes                      7021 non-null uint8\n",
            "Contract_One year                        7021 non-null uint8\n",
            "Contract_Two year                        7021 non-null uint8\n",
            "PaperlessBilling_Yes                     7021 non-null uint8\n",
            "PaymentMethod_Credit card (automatic)    7021 non-null uint8\n",
            "PaymentMethod_Electronic check           7021 non-null uint8\n",
            "PaymentMethod_Mailed check               7021 non-null uint8\n",
            "tenure_group_Tenure_12-24                7021 non-null uint8\n",
            "tenure_group_Tenure_24-48                7021 non-null uint8\n",
            "tenure_group_Tenure_48-60                7021 non-null uint8\n",
            "tenure_group_Tenure_gt_60                7021 non-null uint8\n",
            "MonthlyCharges                           7021 non-null float64\n",
            "TotalCharges                             7021 non-null float64\n",
            "dtypes: float64(2), int64(1), object(1), uint8(25)\n",
            "memory usage: 445.7+ KB\n"
          ],
          "name": "stdout"
        }
      ]
    },
    {
      "cell_type": "markdown",
      "metadata": {
        "id": "-rr9tK9z0yWk",
        "colab_type": "text"
      },
      "source": [
        "# EXPLORATORY DATA ANALYSIS"
      ]
    },
    {
      "cell_type": "code",
      "metadata": {
        "id": "Vt5tFxpXfGUa",
        "colab_type": "code",
        "outputId": "049b2e66-c7e3-44a2-a431-09da633946d3",
        "colab": {
          "base_uri": "https://localhost:8080/",
          "height": 85
        }
      },
      "source": [
        "telcom_final.groupby(['Churn']).size() / telcom_final.shape[0] * 100"
      ],
      "execution_count": 0,
      "outputs": [
        {
          "output_type": "execute_result",
          "data": {
            "text/plain": [
              "Churn\n",
              "0    73.422589\n",
              "1    26.577411\n",
              "dtype: float64"
            ]
          },
          "metadata": {
            "tags": []
          },
          "execution_count": 39
        }
      ]
    },
    {
      "cell_type": "code",
      "metadata": {
        "id": "yR_YDL_njjev",
        "colab_type": "code",
        "outputId": "90f46b11-f364-4346-965c-80d044e0139a",
        "colab": {
          "base_uri": "https://localhost:8080/",
          "height": 210
        }
      },
      "source": [
        "ax = sns.catplot(y=\"Churn\", kind=\"count\", data=telcom_final, height=2.6, aspect=2.5, orient='h')"
      ],
      "execution_count": 0,
      "outputs": [
        {
          "output_type": "display_data",
          "data": {
            "image/png": "iVBORw0KGgoAAAANSUhEUgAAAcwAAADBCAYAAABCMoDsAAAABHNCSVQICAgIfAhkiAAAAAlwSFlz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\n",
            "text/plain": [
              "<Figure size 468x187.2 with 1 Axes>"
            ]
          },
          "metadata": {
            "tags": []
          }
        }
      ]
    },
    {
      "cell_type": "markdown",
      "metadata": {
        "id": "vtCiIWMzf5qS",
        "colab_type": "text"
      },
      "source": [
        "There is some imbalance, we will see how that impacts our model metrics and then try to balance the data. "
      ]
    },
    {
      "cell_type": "code",
      "metadata": {
        "id": "34urusyb0RAa",
        "colab_type": "code",
        "outputId": "0c08a2a8-b754-413d-95ca-207e2aa36544",
        "colab": {
          "base_uri": "https://localhost:8080/",
          "height": 296
        }
      },
      "source": [
        "sns.countplot(x='Churn', hue='gender_Male', data=telcom_final)"
      ],
      "execution_count": 0,
      "outputs": [
        {
          "output_type": "execute_result",
          "data": {
            "text/plain": [
              "<matplotlib.axes._subplots.AxesSubplot at 0x7fe6cf8960b8>"
            ]
          },
          "metadata": {
            "tags": []
          },
          "execution_count": 41
        },
        {
          "output_type": "display_data",
          "data": {
            "image/png": "iVBORw0KGgoAAAANSUhEUgAAAYsAAAEGCAYAAACUzrmNAAAABHNCSVQICAgIfAhkiAAAAAlwSFlz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\nSUVORK5CYII=\n",
            "text/plain": [
              "<Figure size 432x288 with 1 Axes>"
            ]
          },
          "metadata": {
            "tags": []
          }
        }
      ]
    },
    {
      "cell_type": "code",
      "metadata": {
        "id": "f716gXGA00WX",
        "colab_type": "code",
        "outputId": "c44d6e3c-549d-464b-b821-7e1aef86bf27",
        "colab": {
          "base_uri": "https://localhost:8080/",
          "height": 296
        }
      },
      "source": [
        "sns.countplot(x='Churn', hue='SeniorCitizen_Yes', data=telcom_final)"
      ],
      "execution_count": 0,
      "outputs": [
        {
          "output_type": "execute_result",
          "data": {
            "text/plain": [
              "<matplotlib.axes._subplots.AxesSubplot at 0x7fe6ccbc0f98>"
            ]
          },
          "metadata": {
            "tags": []
          },
          "execution_count": 42
        },
        {
          "output_type": "display_data",
          "data": {
            "image/png": "iVBORw0KGgoAAAANSUhEUgAAAYsAAAEGCAYAAACUzrmNAAAABHNCSVQICAgIfAhkiAAAAAlwSFlz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\nFpKkXP8fsXpGhUd+1sEAAAAASUVORK5CYII=\n",
            "text/plain": [
              "<Figure size 432x288 with 1 Axes>"
            ]
          },
          "metadata": {
            "tags": []
          }
        }
      ]
    },
    {
      "cell_type": "code",
      "metadata": {
        "id": "Y7SUW0Xd9n9v",
        "colab_type": "code",
        "outputId": "9e638157-9db4-48d1-f254-c082646d5442",
        "colab": {
          "base_uri": "https://localhost:8080/",
          "height": 752
        }
      },
      "source": [
        "pm_df = telcom.groupby(['PaymentMethod', 'Churn']).size().unstack()\n",
        "tenure_df = telcom.groupby(['tenure_group', 'Churn']).size().unstack()\n",
        "\n",
        "ax1 = pm_df.plot(kind='bar', title='Value frequency for different Payment Methods')\n",
        "ax2 = tenure_df.plot(kind='bar', title='Value frequency for different tenure groups')\n",
        "plt.show()"
      ],
      "execution_count": 0,
      "outputs": [
        {
          "output_type": "display_data",
          "data": {
            "image/png": "iVBORw0KGgoAAAANSUhEUgAAAX0AAAGNCAYAAAD966FIAAAABHNCSVQICAgIfAhkiAAAAAlwSFlz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\nrEKc9M3MKsRJ38ysQpz0zcwq5P8D9PAIQg4BqlkAAAAASUVORK5CYII=\n",
            "text/plain": [
              "<Figure size 432x288 with 1 Axes>"
            ]
          },
          "metadata": {
            "tags": []
          }
        },
        {
          "output_type": "display_data",
          "data": {
            "image/png": "iVBORw0KGgoAAAANSUhEUgAAAX0AAAFSCAYAAAAegw+yAAAABHNCSVQICAgIfAhkiAAAAAlwSFlz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\nRJmtBEzIxwAAAABJRU5ErkJggg==\n",
            "text/plain": [
              "<Figure size 432x288 with 1 Axes>"
            ]
          },
          "metadata": {
            "tags": []
          }
        }
      ]
    },
    {
      "cell_type": "markdown",
      "metadata": {
        "id": "veoFIi-c_lha",
        "colab_type": "text"
      },
      "source": [
        "We can see that Electronic Check has the highest number of churns so Churn clearly varies by Payment Method type. Therefore, it is likely useful for predicting Churn and should be included in future prediction models. \n",
        "\n",
        "Also, Tenure_0-12 has the highest number of Churn. "
      ]
    },
    {
      "cell_type": "code",
      "metadata": {
        "id": "MDLDvvJ7bxy6",
        "colab_type": "code",
        "outputId": "0b97e49a-775c-4bcc-bc88-c013754873d8",
        "colab": {
          "base_uri": "https://localhost:8080/",
          "height": 789
        }
      },
      "source": [
        "# Correlation matrix\n",
        "telcom_corr = telcom_final.corr()\n",
        "\n",
        "fig, ax = plt.subplots(figsize=(10,10))         # Sample figsize in inches\n",
        "# Generate correlation heatmap\n",
        "sns.heatmap(telcom_corr, center=0, cmap=sns.diverging_palette(20,220), ax=ax)\n",
        "plt.show()\n"
      ],
      "execution_count": 0,
      "outputs": [
        {
          "output_type": "display_data",
          "data": {
            "image/png": "iVBORw0KGgoAAAANSUhEUgAAAvsAAAMECAYAAAAhMuo2AAAABHNCSVQICAgIfAhkiAAAAAlwSFlz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\n4ZSjAAAAAElFTkSuQmCC\n",
            "text/plain": [
              "<Figure size 720x720 with 2 Axes>"
            ]
          },
          "metadata": {
            "tags": []
          }
        }
      ]
    },
    {
      "cell_type": "markdown",
      "metadata": {
        "id": "ON4D2XhH2Kwr",
        "colab_type": "text"
      },
      "source": [
        "Monthly Charges and Total Charges are highly correlated so I will drop Total Charges column. "
      ]
    },
    {
      "cell_type": "code",
      "metadata": {
        "id": "y7Ue9DDh2Xs_",
        "colab_type": "code",
        "colab": {}
      },
      "source": [
        "telcom_final = telcom_final.drop(['TotalCharges'], axis=1)"
      ],
      "execution_count": 0,
      "outputs": []
    },
    {
      "cell_type": "code",
      "metadata": {
        "id": "QCbc-BJrdSZM",
        "colab_type": "code",
        "outputId": "1001ea3f-62ce-481c-ca05-679971bcaab2",
        "colab": {
          "base_uri": "https://localhost:8080/",
          "height": 275
        }
      },
      "source": [
        "telcom_final.head()"
      ],
      "execution_count": 0,
      "outputs": [
        {
          "output_type": "execute_result",
          "data": {
            "text/html": [
              "<div>\n",
              "<style scoped>\n",
              "    .dataframe tbody tr th:only-of-type {\n",
              "        vertical-align: middle;\n",
              "    }\n",
              "\n",
              "    .dataframe tbody tr th {\n",
              "        vertical-align: top;\n",
              "    }\n",
              "\n",
              "    .dataframe thead th {\n",
              "        text-align: right;\n",
              "    }\n",
              "</style>\n",
              "<table border=\"1\" class=\"dataframe\">\n",
              "  <thead>\n",
              "    <tr style=\"text-align: right;\">\n",
              "      <th></th>\n",
              "      <th>customerID</th>\n",
              "      <th>Churn</th>\n",
              "      <th>gender_Male</th>\n",
              "      <th>SeniorCitizen_Yes</th>\n",
              "      <th>Partner_Yes</th>\n",
              "      <th>Dependents_Yes</th>\n",
              "      <th>PhoneService_Yes</th>\n",
              "      <th>MultipleLines_No phone service</th>\n",
              "      <th>MultipleLines_Yes</th>\n",
              "      <th>InternetService_Fiber optic</th>\n",
              "      <th>InternetService_No</th>\n",
              "      <th>OnlineSecurity_Yes</th>\n",
              "      <th>OnlineBackup_Yes</th>\n",
              "      <th>DeviceProtection_Yes</th>\n",
              "      <th>TechSupport_Yes</th>\n",
              "      <th>StreamingTV_Yes</th>\n",
              "      <th>StreamingMovies_Yes</th>\n",
              "      <th>Contract_One year</th>\n",
              "      <th>Contract_Two year</th>\n",
              "      <th>PaperlessBilling_Yes</th>\n",
              "      <th>PaymentMethod_Credit card (automatic)</th>\n",
              "      <th>PaymentMethod_Electronic check</th>\n",
              "      <th>PaymentMethod_Mailed check</th>\n",
              "      <th>tenure_group_Tenure_12-24</th>\n",
              "      <th>tenure_group_Tenure_24-48</th>\n",
              "      <th>tenure_group_Tenure_48-60</th>\n",
              "      <th>tenure_group_Tenure_gt_60</th>\n",
              "      <th>MonthlyCharges</th>\n",
              "    </tr>\n",
              "  </thead>\n",
              "  <tbody>\n",
              "    <tr>\n",
              "      <th>0</th>\n",
              "      <td>7590-VHVEG</td>\n",
              "      <td>0</td>\n",
              "      <td>0</td>\n",
              "      <td>0</td>\n",
              "      <td>1</td>\n",
              "      <td>0</td>\n",
              "      <td>0</td>\n",
              "      <td>1</td>\n",
              "      <td>0</td>\n",
              "      <td>0</td>\n",
              "      <td>0</td>\n",
              "      <td>0</td>\n",
              "      <td>1</td>\n",
              "      <td>0</td>\n",
              "      <td>0</td>\n",
              "      <td>0</td>\n",
              "      <td>0</td>\n",
              "      <td>0</td>\n",
              "      <td>0</td>\n",
              "      <td>1</td>\n",
              "      <td>0</td>\n",
              "      <td>1</td>\n",
              "      <td>0</td>\n",
              "      <td>0</td>\n",
              "      <td>0</td>\n",
              "      <td>0</td>\n",
              "      <td>0</td>\n",
              "      <td>-1.161694</td>\n",
              "    </tr>\n",
              "    <tr>\n",
              "      <th>1</th>\n",
              "      <td>5575-GNVDE</td>\n",
              "      <td>0</td>\n",
              "      <td>1</td>\n",
              "      <td>0</td>\n",
              "      <td>0</td>\n",
              "      <td>0</td>\n",
              "      <td>1</td>\n",
              "      <td>0</td>\n",
              "      <td>0</td>\n",
              "      <td>0</td>\n",
              "      <td>0</td>\n",
              "      <td>1</td>\n",
              "      <td>0</td>\n",
              "      <td>1</td>\n",
              "      <td>0</td>\n",
              "      <td>0</td>\n",
              "      <td>0</td>\n",
              "      <td>1</td>\n",
              "      <td>0</td>\n",
              "      <td>0</td>\n",
              "      <td>0</td>\n",
              "      <td>0</td>\n",
              "      <td>1</td>\n",
              "      <td>0</td>\n",
              "      <td>1</td>\n",
              "      <td>0</td>\n",
              "      <td>0</td>\n",
              "      <td>-0.260878</td>\n",
              "    </tr>\n",
              "    <tr>\n",
              "      <th>2</th>\n",
              "      <td>3668-QPYBK</td>\n",
              "      <td>1</td>\n",
              "      <td>1</td>\n",
              "      <td>0</td>\n",
              "      <td>0</td>\n",
              "      <td>0</td>\n",
              "      <td>1</td>\n",
              "      <td>0</td>\n",
              "      <td>0</td>\n",
              "      <td>0</td>\n",
              "      <td>0</td>\n",
              "      <td>1</td>\n",
              "      <td>1</td>\n",
              "      <td>0</td>\n",
              "      <td>0</td>\n",
              "      <td>0</td>\n",
              "      <td>0</td>\n",
              "      <td>0</td>\n",
              "      <td>0</td>\n",
              "      <td>1</td>\n",
              "      <td>0</td>\n",
              "      <td>0</td>\n",
              "      <td>1</td>\n",
              "      <td>0</td>\n",
              "      <td>0</td>\n",
              "      <td>0</td>\n",
              "      <td>0</td>\n",
              "      <td>-0.363923</td>\n",
              "    </tr>\n",
              "    <tr>\n",
              "      <th>3</th>\n",
              "      <td>7795-CFOCW</td>\n",
              "      <td>0</td>\n",
              "      <td>1</td>\n",
              "      <td>0</td>\n",
              "      <td>0</td>\n",
              "      <td>0</td>\n",
              "      <td>0</td>\n",
              "      <td>1</td>\n",
              "      <td>0</td>\n",
              "      <td>0</td>\n",
              "      <td>0</td>\n",
              "      <td>1</td>\n",
              "      <td>0</td>\n",
              "      <td>1</td>\n",
              "      <td>1</td>\n",
              "      <td>0</td>\n",
              "      <td>0</td>\n",
              "      <td>1</td>\n",
              "      <td>0</td>\n",
              "      <td>0</td>\n",
              "      <td>0</td>\n",
              "      <td>0</td>\n",
              "      <td>0</td>\n",
              "      <td>0</td>\n",
              "      <td>1</td>\n",
              "      <td>0</td>\n",
              "      <td>0</td>\n",
              "      <td>-0.747850</td>\n",
              "    </tr>\n",
              "    <tr>\n",
              "      <th>4</th>\n",
              "      <td>9237-HQITU</td>\n",
              "      <td>1</td>\n",
              "      <td>0</td>\n",
              "      <td>0</td>\n",
              "      <td>0</td>\n",
              "      <td>0</td>\n",
              "      <td>1</td>\n",
              "      <td>0</td>\n",
              "      <td>0</td>\n",
              "      <td>1</td>\n",
              "      <td>0</td>\n",
              "      <td>0</td>\n",
              "      <td>0</td>\n",
              "      <td>0</td>\n",
              "      <td>0</td>\n",
              "      <td>0</td>\n",
              "      <td>0</td>\n",
              "      <td>0</td>\n",
              "      <td>0</td>\n",
              "      <td>1</td>\n",
              "      <td>0</td>\n",
              "      <td>1</td>\n",
              "      <td>0</td>\n",
              "      <td>0</td>\n",
              "      <td>0</td>\n",
              "      <td>0</td>\n",
              "      <td>0</td>\n",
              "      <td>0.196178</td>\n",
              "    </tr>\n",
              "  </tbody>\n",
              "</table>\n",
              "</div>"
            ],
            "text/plain": [
              "   customerID  Churn  ...  tenure_group_Tenure_gt_60  MonthlyCharges\n",
              "0  7590-VHVEG      0  ...                          0       -1.161694\n",
              "1  5575-GNVDE      0  ...                          0       -0.260878\n",
              "2  3668-QPYBK      1  ...                          0       -0.363923\n",
              "3  7795-CFOCW      0  ...                          0       -0.747850\n",
              "4  9237-HQITU      1  ...                          0        0.196178\n",
              "\n",
              "[5 rows x 28 columns]"
            ]
          },
          "metadata": {
            "tags": []
          },
          "execution_count": 54
        }
      ]
    },
    {
      "cell_type": "markdown",
      "metadata": {
        "id": "9YMk8TSFoUq5",
        "colab_type": "text"
      },
      "source": [
        "# Model Building"
      ]
    },
    {
      "cell_type": "markdown",
      "metadata": {
        "id": "trpy1YdBEUba",
        "colab_type": "text"
      },
      "source": [
        "First, we separate the independent features and the target variable."
      ]
    },
    {
      "cell_type": "code",
      "metadata": {
        "id": "Kc-S0H4zDvlh",
        "colab_type": "code",
        "colab": {}
      },
      "source": [
        "target = ['Churn']\n",
        "custid = ['customerID']\n",
        "cols = [col for col in telcom_final.columns if col not in custid + target]"
      ],
      "execution_count": 0,
      "outputs": []
    },
    {
      "cell_type": "code",
      "metadata": {
        "id": "xWhHHS4mDoBS",
        "colab_type": "code",
        "colab": {}
      },
      "source": [
        "X = telcom_final[cols]\n",
        "y = telcom_final[target]"
      ],
      "execution_count": 0,
      "outputs": []
    },
    {
      "cell_type": "code",
      "metadata": {
        "id": "lhatifSYoCOI",
        "colab_type": "code",
        "colab": {}
      },
      "source": [
        "from sklearn.model_selection import train_test_split"
      ],
      "execution_count": 0,
      "outputs": []
    },
    {
      "cell_type": "code",
      "metadata": {
        "id": "helNaihWoZcp",
        "colab_type": "code",
        "colab": {}
      },
      "source": [
        "X_train, X_test, y_train, y_test = train_test_split(X, y, test_size=0.30, stratify=y)\n",
        "#Set the parameter stratify=y for the train and test sets to have the same proportion of class labels as the unsplit dataset. \n"
      ],
      "execution_count": 0,
      "outputs": []
    },
    {
      "cell_type": "markdown",
      "metadata": {
        "id": "uxR_EKwupp4q",
        "colab_type": "text"
      },
      "source": [
        "## Predicting Churn with baseline logistic regress"
      ]
    },
    {
      "cell_type": "code",
      "metadata": {
        "id": "wwci7q_6peMh",
        "colab_type": "code",
        "colab": {}
      },
      "source": [
        "from sklearn.linear_model import LogisticRegression"
      ],
      "execution_count": 0,
      "outputs": []
    },
    {
      "cell_type": "code",
      "metadata": {
        "id": "FZ6d6MzfqCoc",
        "colab_type": "code",
        "colab": {}
      },
      "source": [
        "logreg = LogisticRegression()"
      ],
      "execution_count": 0,
      "outputs": []
    },
    {
      "cell_type": "code",
      "metadata": {
        "id": "xwQmjwRhqGQk",
        "colab_type": "code",
        "outputId": "31a26be9-23ae-4e8e-8c31-336916e629b5",
        "colab": {
          "base_uri": "https://localhost:8080/",
          "height": 156
        }
      },
      "source": [
        "logreg.fit(X_train, y_train)"
      ],
      "execution_count": 0,
      "outputs": [
        {
          "output_type": "stream",
          "text": [
            "/usr/local/lib/python3.6/dist-packages/sklearn/utils/validation.py:760: DataConversionWarning: A column-vector y was passed when a 1d array was expected. Please change the shape of y to (n_samples, ), for example using ravel().\n",
            "  y = column_or_1d(y, warn=True)\n"
          ],
          "name": "stderr"
        },
        {
          "output_type": "execute_result",
          "data": {
            "text/plain": [
              "LogisticRegression(C=1.0, class_weight=None, dual=False, fit_intercept=True,\n",
              "                   intercept_scaling=1, l1_ratio=None, max_iter=100,\n",
              "                   multi_class='auto', n_jobs=None, penalty='l2',\n",
              "                   random_state=None, solver='lbfgs', tol=0.0001, verbose=0,\n",
              "                   warm_start=False)"
            ]
          },
          "metadata": {
            "tags": []
          },
          "execution_count": 76
        }
      ]
    },
    {
      "cell_type": "code",
      "metadata": {
        "id": "2SOiBgBrqJZd",
        "colab_type": "code",
        "outputId": "4d89d130-5de9-456f-8c38-5ee1338c3b53",
        "colab": {
          "base_uri": "https://localhost:8080/",
          "height": 51
        }
      },
      "source": [
        "# Measuring Model accuracy\n",
        "from sklearn.metrics import accuracy_score\n",
        "\n",
        "pred_train_y = logreg.predict(X_train)\n",
        "pred_test_y = logreg.predict(X_test)\n",
        "\n",
        "train_accuracy = accuracy_score(y_train, pred_train_y)\n",
        "test_accuracy = accuracy_score(y_test, pred_test_y)\n",
        "\n",
        "print('Training accuracy:', round(train_accuracy, 4))\n",
        "print('Test accuracy:', round(test_accuracy, 4))"
      ],
      "execution_count": 0,
      "outputs": [
        {
          "output_type": "stream",
          "text": [
            "Training accuracy: 0.805\n",
            "Test accuracy: 0.794\n"
          ],
          "name": "stdout"
        }
      ]
    },
    {
      "cell_type": "markdown",
      "metadata": {
        "id": "HgO6bROcvQc2",
        "colab_type": "text"
      },
      "source": [
        "This shows that our baseline model is correctly labelling approx 80% of the customer churn events. However, When evaluating a dataset with imbalanced classes, accuracy is not the best metric to use. "
      ]
    },
    {
      "cell_type": "code",
      "metadata": {
        "id": "zGQ5m6znuJ7P",
        "colab_type": "code",
        "outputId": "d54ca6f8-86d3-4f42-c16c-dcb382c0ae8c",
        "colab": {
          "base_uri": "https://localhost:8080/",
          "height": 51
        }
      },
      "source": [
        "# Measuring precision and recall\n",
        "\n",
        "from sklearn.metrics import precision_score, recall_score\n",
        "\n",
        "train_precision = round(precision_score(y_train, pred_train_y), 4)\n",
        "test_precision = round(precision_score(y_test, pred_test_y), 4)\n",
        "\n",
        "train_recall = round(recall_score(y_train, pred_train_y), 4)\n",
        "test_recall = round(recall_score(y_test, pred_test_y), 4)\n",
        "\n",
        "print('Training precision: {}, Training recall: {}'.format(train_precision, train_recall))\n",
        "print('Test precision: {}, Test recall: {}'.format(test_precision, test_recall))"
      ],
      "execution_count": 0,
      "outputs": [
        {
          "output_type": "stream",
          "text": [
            "Training precision: 0.6761, Training recall: 0.5115\n",
            "Test precision: 0.6413, Test recall: 0.5107\n"
          ],
          "name": "stdout"
        }
      ]
    },
    {
      "cell_type": "markdown",
      "metadata": {
        "id": "NjHVAD7JxAfJ",
        "colab_type": "text"
      },
      "source": [
        "These values are lower than accuracy which means the model predicts the minority churn class less accurately than the majority non-churned class. "
      ]
    },
    {
      "cell_type": "markdown",
      "metadata": {
        "id": "5TJuihQe5PvX",
        "colab_type": "text"
      },
      "source": [
        "## RESAMPLING"
      ]
    },
    {
      "cell_type": "markdown",
      "metadata": {
        "id": "jJAG9IxT5Vcc",
        "colab_type": "text"
      },
      "source": [
        "Resampling is a technique which tries to create more balance between the classes. It could either create more observations from the minority class, which is called oversampling, or only include a subset sample from a majority class, called undersampling or downsampling. Here I will show the results with both upsampling and downsampling"
      ]
    },
    {
      "cell_type": "code",
      "metadata": {
        "id": "POtg-5XE5O5G",
        "colab_type": "code",
        "colab": {}
      },
      "source": [
        "#The training data and its labels that correspond to Churn are subset to contain only the minority class \n",
        "#and to non-churned that correspond to the majority.\n",
        "\n",
        "train, test = train_test_split(telcom_final, test_size=0.30)\n"
      ],
      "execution_count": 0,
      "outputs": []
    },
    {
      "cell_type": "code",
      "metadata": {
        "id": "qOeuokDR7nLN",
        "colab_type": "code",
        "colab": {}
      },
      "source": [
        "churned = train[train['Churn'] == 1]\n",
        "non_churned = train[train['Churn'] == 0]"
      ],
      "execution_count": 0,
      "outputs": []
    },
    {
      "cell_type": "code",
      "metadata": {
        "id": "z9TFQaA77_my",
        "colab_type": "code",
        "colab": {}
      },
      "source": [
        "from sklearn.utils import resample\n",
        "\n",
        "# Upsample minority and combine with majority\n",
        "telcom_upsampled = resample(churned, replace=True, n_samples=len(non_churned), random_state=123)\n",
        "upsampled = pd.concat([non_churned, telcom_upsampled])\n"
      ],
      "execution_count": 0,
      "outputs": []
    },
    {
      "cell_type": "code",
      "metadata": {
        "id": "oFRS6V4k86mt",
        "colab_type": "code",
        "outputId": "7a98cb6c-f04c-4bb0-ede4-fc3a3fea7818",
        "colab": {
          "base_uri": "https://localhost:8080/",
          "height": 210
        }
      },
      "source": [
        "ax = sns.catplot(y=\"Churn\", kind=\"count\", data=upsampled, height=2.6, aspect=2.5, orient='h')"
      ],
      "execution_count": 0,
      "outputs": [
        {
          "output_type": "display_data",
          "data": {
            "image/png": "iVBORw0KGgoAAAANSUhEUgAAAcwAAADBCAYAAABCMoDsAAAABHNCSVQICAgIfAhkiAAAAAlwSFlz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\nJUlqYGBKktTAwJQkqYGBKUlSg/8DvpLdRyHnUBgAAAAASUVORK5CYII=\n",
            "text/plain": [
              "<Figure size 468x187.2 with 1 Axes>"
            ]
          },
          "metadata": {
            "tags": []
          }
        }
      ]
    },
    {
      "cell_type": "code",
      "metadata": {
        "id": "EycJnBEQ81es",
        "colab_type": "code",
        "colab": {}
      },
      "source": [
        "# Upsampled feature matrix and target array\n",
        "X_train_up = upsampled.drop(['customerID', 'Churn'], axis=1)\n",
        "y_train_up = upsampled['Churn']\n",
        "\n",
        "X_test = test[cols]\n",
        "y_test = test[target]"
      ],
      "execution_count": 0,
      "outputs": []
    },
    {
      "cell_type": "code",
      "metadata": {
        "id": "kM8Q5qML-AWK",
        "colab_type": "code",
        "outputId": "8b97820f-6f79-4c95-ad5f-31db2d7d017f",
        "colab": {
          "base_uri": "https://localhost:8080/",
          "height": 68
        }
      },
      "source": [
        "# Instantiate logistic regression, fit, predict\n",
        "churn_lr_up = LogisticRegression()\n",
        "churn_lr_up.fit(X_train_up, y_train_up)\n",
        "upsampled_y_pred = churn_lr_up.predict(X_test)\n",
        "\n",
        "# Print evaluation metrics\n",
        "print(\"Accuracy: {}\".format(accuracy_score(y_test, upsampled_y_pred)))\n",
        "print(\"Precision: {}\".format(precision_score(y_test, upsampled_y_pred)))\n",
        "print(\"Recall: {}\".format(recall_score(y_test, upsampled_y_pred)))\n"
      ],
      "execution_count": 0,
      "outputs": [
        {
          "output_type": "stream",
          "text": [
            "Accuracy: 0.7408637873754153\n",
            "Precision: 0.49372862029646525\n",
            "Recall: 0.8093457943925234\n"
          ],
          "name": "stdout"
        }
      ]
    },
    {
      "cell_type": "markdown",
      "metadata": {
        "id": "qIN2TsQP_APP",
        "colab_type": "text"
      },
      "source": [
        "Using upsampling technique improved the recall score significantly from 51% to ~80%, meaning there are less false negatives. That is definitely a good thing!"
      ]
    },
    {
      "cell_type": "code",
      "metadata": {
        "id": "MLy6_g6BbJwI",
        "colab_type": "code",
        "outputId": "15f4b931-7a02-41d8-d262-a7a2ecf9c954",
        "colab": {
          "base_uri": "https://localhost:8080/",
          "height": 210
        }
      },
      "source": [
        "# Downsample minority and combine with majority\n",
        "telcom_downsampled = resample(non_churned, replace=False, n_samples=len(churned), random_state=123)\n",
        "downsampled = pd.concat([telcom_downsampled, churned])\n",
        "\n",
        "ax = sns.catplot(y=\"Churn\", kind=\"count\", data=downsampled, height=2.6, aspect=2.5, orient='h')"
      ],
      "execution_count": 0,
      "outputs": [
        {
          "output_type": "display_data",
          "data": {
            "image/png": "iVBORw0KGgoAAAANSUhEUgAAAcwAAADBCAYAAABCMoDsAAAABHNCSVQICAgIfAhkiAAAAAlwSFlz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\nAElFTkSuQmCC\n",
            "text/plain": [
              "<Figure size 468x187.2 with 1 Axes>"
            ]
          },
          "metadata": {
            "tags": []
          }
        }
      ]
    },
    {
      "cell_type": "code",
      "metadata": {
        "id": "UzaN-ubycePL",
        "colab_type": "code",
        "colab": {}
      },
      "source": [
        "# Upsampled feature matrix and target array\n",
        "X_train_down = downsampled.drop(['customerID', 'Churn'], axis=1)\n",
        "y_train_down = downsampled['Churn']\n",
        "\n",
        "X_test = test[cols]\n",
        "y_test = test[target]"
      ],
      "execution_count": 0,
      "outputs": []
    },
    {
      "cell_type": "code",
      "metadata": {
        "id": "Ynz5YU3GcuQz",
        "colab_type": "code",
        "outputId": "f089bd1a-6e8d-48f8-a0cf-fd13f494ff8e",
        "colab": {
          "base_uri": "https://localhost:8080/",
          "height": 68
        }
      },
      "source": [
        "# Instantiate logistic regression, fit, predict\n",
        "churn_lr_down = LogisticRegression()\n",
        "churn_lr_down.fit(X_train_down, y_train_down)\n",
        "downsampled_y_pred = churn_lr_down.predict(X_test)\n",
        "\n",
        "# Print evaluation metrics\n",
        "print(\"Accuracy: {}\".format(accuracy_score(y_test, downsampled_y_pred)))\n",
        "print(\"Precision: {}\".format(precision_score(y_test, downsampled_y_pred)))\n",
        "print(\"Recall: {}\".format(recall_score(y_test, downsampled_y_pred)))"
      ],
      "execution_count": 0,
      "outputs": [
        {
          "output_type": "stream",
          "text": [
            "Accuracy: 0.7308970099667774\n",
            "Precision: 0.48237885462555063\n",
            "Recall: 0.8186915887850468\n"
          ],
          "name": "stdout"
        }
      ]
    },
    {
      "cell_type": "markdown",
      "metadata": {
        "id": "wDIgYcEvc_iX",
        "colab_type": "text"
      },
      "source": [
        "The precision score is still low in downsampled data but the Recall is slightly higher than upsampled data which is why resampling is useful. "
      ]
    },
    {
      "cell_type": "code",
      "metadata": {
        "id": "-FlCxDunwuwj",
        "colab_type": "code",
        "outputId": "93e49d88-41cf-4edf-8fb0-9ba364d5aa57",
        "colab": {
          "base_uri": "https://localhost:8080/",
          "height": 187
        }
      },
      "source": [
        "# L1 Regularization and feature selection\n",
        "\n",
        "C = [1, 0.5, 0.25, 0.1, 0.05, 0.025, 0.01, 0.005, 0.0025]\n",
        "\n",
        "l1_metrics = np.zeros((len(C), 5))\n",
        "l1_metrics[:, 0] = C\n",
        "\n",
        "for index in range(0, len(C)):\n",
        "  logreg = LogisticRegression(penalty='l1', C=C[index], solver='liblinear')\n",
        "  logreg.fit(X_train_up, y_train_up)\n",
        "  pred_test_y = logreg.predict(X_test)\n",
        "\n",
        "  l1_metrics[index, 1] = np.count_nonzero(logreg.coef_)\n",
        "  l1_metrics[index, 2] = accuracy_score(y_test, pred_test_y)\n",
        "  l1_metrics[index, 3] = precision_score(y_test, pred_test_y)\n",
        "  l1_metrics[index, 4] = recall_score(y_test, pred_test_y)\n",
        "\n",
        "col_names = ['C', 'Non-Zero Coeffs', 'Accuracy', 'Precision', 'Recall']\n",
        "print(pd.DataFrame(l1_metrics, columns=col_names))"
      ],
      "execution_count": 0,
      "outputs": [
        {
          "output_type": "stream",
          "text": [
            "        C  Non-Zero Coeffs  Accuracy  Precision    Recall\n",
            "0  1.0000             25.0  0.740864   0.493743  0.811215\n",
            "1  0.5000             25.0  0.741338   0.494305  0.811215\n",
            "2  0.2500             23.0  0.742762   0.496018  0.814953\n",
            "3  0.1000             22.0  0.745610   0.499432  0.822430\n",
            "4  0.0500             20.0  0.742288   0.495444  0.813084\n",
            "5  0.0250             18.0  0.739440   0.492009  0.805607\n",
            "6  0.0100             12.0  0.733270   0.485083  0.820561\n",
            "7  0.0050              7.0  0.724252   0.473804  0.777570\n",
            "8  0.0025              3.0  0.678215   0.428141  0.796262\n"
          ],
          "name": "stdout"
        }
      ]
    },
    {
      "cell_type": "markdown",
      "metadata": {
        "id": "S-Z2LUEcz4mh",
        "colab_type": "text"
      },
      "source": [
        "Typically, we choose a model with reduced complexity that still maintains similar performance metrics. C value of 0.01 meets this criteria; it reduces the number of features to 12, while maintaining the accuracy, precision and recall scores close to the ones in the non-regularized model. The other models with lower C values have a lowwe recall value indicating that it's not able to classify churners correctly. "
      ]
    },
    {
      "cell_type": "code",
      "metadata": {
        "id": "r_YiwP8kEXZ6",
        "colab_type": "code",
        "colab": {}
      },
      "source": [
        "logreg = LogisticRegression(penalty='l1', C=0.01, solver='liblinear')\n",
        "logreg.fit(X_train_up, y_train_up)\n",
        "pred_test_Y = logreg.predict(X_test)"
      ],
      "execution_count": 0,
      "outputs": []
    },
    {
      "cell_type": "code",
      "metadata": {
        "id": "STvTd647DzWw",
        "colab_type": "code",
        "outputId": "06e986c1-d802-4011-9b97-1581073fd769",
        "colab": {
          "base_uri": "https://localhost:8080/",
          "height": 119
        }
      },
      "source": [
        "logreg.coef_"
      ],
      "execution_count": 0,
      "outputs": [
        {
          "output_type": "execute_result",
          "data": {
            "text/plain": [
              "array([[ 0.        ,  0.        , -0.10566933, -0.00600111,  0.        ,\n",
              "         0.        ,  0.        ,  0.65554848, -0.36559653, -0.28639757,\n",
              "         0.        ,  0.        , -0.1360668 ,  0.        ,  0.        ,\n",
              "        -0.77188028, -1.51706117,  0.18233034,  0.        ,  0.40726027,\n",
              "         0.        ,  0.        , -0.10687179,  0.        , -0.1808985 ,\n",
              "         0.        ]])"
            ]
          },
          "metadata": {
            "tags": []
          },
          "execution_count": 92
        }
      ]
    },
    {
      "cell_type": "code",
      "metadata": {
        "id": "9zjlhNuhEh0q",
        "colab_type": "code",
        "outputId": "faa9f814-ddff-4f5c-b951-305de1e972c6",
        "colab": {
          "base_uri": "https://localhost:8080/",
          "height": 238
        }
      },
      "source": [
        "coefficients = pd.concat([pd.DataFrame(X_train_up.columns),\n",
        "                          pd.DataFrame(np.transpose(logreg.coef_))],\n",
        "                         axis = 1)\n",
        "\n",
        "coefficients.columns = ['Feature', 'Coefficient']\n",
        "coefficients['Exp_Coefficient'] = np.exp(coefficients['Coefficient'])\n",
        "coefficients = coefficients[coefficients['Coefficient']!=0]\n",
        "print(coefficients.sort_values(by=['Coefficient']))"
      ],
      "execution_count": 0,
      "outputs": [
        {
          "output_type": "stream",
          "text": [
            "                           Feature  Coefficient  Exp_Coefficient\n",
            "16               Contract_Two year    -1.517061         0.219356\n",
            "15               Contract_One year    -0.771880         0.462143\n",
            "8               InternetService_No    -0.365597         0.693783\n",
            "9               OnlineSecurity_Yes    -0.286398         0.750964\n",
            "24       tenure_group_Tenure_gt_60    -0.180898         0.834520\n",
            "12                 TechSupport_Yes    -0.136067         0.872784\n",
            "22       tenure_group_Tenure_24-48    -0.106872         0.898641\n",
            "2                      Partner_Yes    -0.105669         0.899722\n",
            "3                   Dependents_Yes    -0.006001         0.994017\n",
            "17            PaperlessBilling_Yes     0.182330         1.200011\n",
            "19  PaymentMethod_Electronic check     0.407260         1.502695\n",
            "7      InternetService_Fiber optic     0.655548         1.926199\n"
          ],
          "name": "stdout"
        }
      ]
    },
    {
      "cell_type": "markdown",
      "metadata": {
        "id": "JIgTqn85Gtsi",
        "colab_type": "text"
      },
      "source": [
        "Feature with the largest effect on the odds of churning is Contract_Two year.   The effect of an increase in contract_two year is that it decreases the odds of churn by 1-0.22. This translates to roughly 78% decrease in the churn odds. \n"
      ]
    },
    {
      "cell_type": "code",
      "metadata": {
        "id": "jsS_IysAJ99s",
        "colab_type": "code",
        "colab": {}
      },
      "source": [
        "Y_pred_prob = logreg.predict_proba(X_test)[:,1]"
      ],
      "execution_count": 0,
      "outputs": []
    },
    {
      "cell_type": "code",
      "metadata": {
        "id": "xrxh8DekKMtj",
        "colab_type": "code",
        "colab": {}
      },
      "source": [
        "# ROC curve in sklearn\n",
        "\n",
        "from sklearn.metrics import roc_curve\n",
        "\n",
        "fpr, tpr, thresholds = roc_curve(y_test, Y_pred_prob)"
      ],
      "execution_count": 0,
      "outputs": []
    },
    {
      "cell_type": "code",
      "metadata": {
        "id": "TmiK8ZVFKZh-",
        "colab_type": "code",
        "outputId": "e7d4d627-c9a0-4b22-e875-4db2e280629f",
        "colab": {
          "base_uri": "https://localhost:8080/",
          "height": 279
        }
      },
      "source": [
        "plt.plot(fpr, tpr)\n",
        "plt.xlabel(\"False Positive Rate\")\n",
        "plt.ylabel(\"True Positive Rate\")\n",
        "plt.plot([0,1], [0,1], \"k--\")\n",
        "plt.show()"
      ],
      "execution_count": 0,
      "outputs": [
        {
          "output_type": "display_data",
          "data": {
            "image/png": "iVBORw0KGgoAAAANSUhEUgAAAYIAAAEGCAYAAABo25JHAAAABHNCSVQICAgIfAhkiAAAAAlwSFlz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\nPk4TgVJK+bj/B3fGaLfgF+AIAAAAAElFTkSuQmCC\n",
            "text/plain": [
              "<Figure size 432x288 with 1 Axes>"
            ]
          },
          "metadata": {
            "tags": []
          }
        }
      ]
    },
    {
      "cell_type": "code",
      "metadata": {
        "id": "pIrEVRFPKne6",
        "colab_type": "code",
        "outputId": "b85524c6-b7f7-4e99-c408-684d54e568cc",
        "colab": {
          "base_uri": "https://localhost:8080/",
          "height": 34
        }
      },
      "source": [
        "#Area under the curve\n",
        "from sklearn.metrics import roc_auc_score\n",
        "\n",
        "auc = roc_auc_score(y_test, pred_test_Y)\n",
        "print(auc)"
      ],
      "execution_count": 0,
      "outputs": [
        {
          "output_type": "stream",
          "text": [
            "0.7620615443152363\n"
          ],
          "name": "stdout"
        }
      ]
    },
    {
      "cell_type": "markdown",
      "metadata": {
        "id": "Bd4qZG8VLv02",
        "colab_type": "text"
      },
      "source": [
        "Our baseline model is not bad. But let's try different models to compare. "
      ]
    },
    {
      "cell_type": "markdown",
      "metadata": {
        "id": "p-bDK5vfS8Nv",
        "colab_type": "text"
      },
      "source": [
        "## Random Forest Classifier"
      ]
    },
    {
      "cell_type": "markdown",
      "metadata": {
        "id": "NNsSJE00Tb5S",
        "colab_type": "text"
      },
      "source": [
        "Random Forest Classifier is as an ensemble of Decision Trees that generally outperforms a single Decision Tree."
      ]
    },
    {
      "cell_type": "code",
      "metadata": {
        "id": "svp8aJFTMWgC",
        "colab_type": "code",
        "outputId": "093ac291-2fbc-4a99-affa-1b85e0ee88b8",
        "colab": {
          "base_uri": "https://localhost:8080/",
          "height": 51
        }
      },
      "source": [
        "from sklearn.ensemble import RandomForestClassifier\n",
        "\n",
        "clf = RandomForestClassifier()\n",
        "\n",
        "# Fit to the training data\n",
        "clf.fit(X_train_up, y_train_up)\n",
        "\n",
        "# Predict the labels of the test set\n",
        "Y_pred_clf = clf.predict(X_test)\n",
        "\n",
        "# Import confusion_matrix\n",
        "from sklearn.metrics import confusion_matrix\n",
        "\n",
        "# Print confusion matrix\n",
        "print(confusion_matrix(y_test, Y_pred_clf))\n"
      ],
      "execution_count": 0,
      "outputs": [
        {
          "output_type": "stream",
          "text": [
            "[[1343  229]\n",
            " [ 245  290]]\n"
          ],
          "name": "stdout"
        }
      ]
    },
    {
      "cell_type": "code",
      "metadata": {
        "id": "NVcpl-06Tn8_",
        "colab_type": "code",
        "outputId": "dfa50bc5-d165-4a0f-9d86-10ed92093348",
        "colab": {
          "base_uri": "https://localhost:8080/",
          "height": 34
        }
      },
      "source": [
        "# Compute accuracy\n",
        "print(clf.score(X_test, y_test))"
      ],
      "execution_count": 0,
      "outputs": [
        {
          "output_type": "stream",
          "text": [
            "0.7750355956336022\n"
          ],
          "name": "stdout"
        }
      ]
    },
    {
      "cell_type": "code",
      "metadata": {
        "id": "CHPCQd4_T-LS",
        "colab_type": "code",
        "outputId": "7ee3ffc5-8504-4b30-c566-fe69c6dce0f2",
        "colab": {
          "base_uri": "https://localhost:8080/",
          "height": 51
        }
      },
      "source": [
        "# Calculate precision_score and recall\n",
        "from sklearn.metrics import precision_score\n",
        "from sklearn.metrics import recall_score\n",
        "\n",
        "# Print the precision\n",
        "print(precision_score(y_test, Y_pred_clf))\n",
        "\n",
        "# Print the recall\n",
        "print(recall_score(y_test, Y_pred_clf))"
      ],
      "execution_count": 0,
      "outputs": [
        {
          "output_type": "stream",
          "text": [
            "0.558766859344894\n",
            "0.5420560747663551\n"
          ],
          "name": "stdout"
        }
      ]
    },
    {
      "cell_type": "code",
      "metadata": {
        "id": "rSkFazJmUW5g",
        "colab_type": "code",
        "outputId": "a3c548b9-f12e-40c7-cd4c-b28ab430ab03",
        "colab": {
          "base_uri": "https://localhost:8080/",
          "height": 279
        }
      },
      "source": [
        "# Create an ROC curve for our random forest classifier.\n",
        "y_pred_prob_clf = clf.predict_proba(X_test)[:, 1]\n",
        "\n",
        "# Calculate the roc metrics\n",
        "fpr, tpr, thresholds = roc_curve(y_test, y_pred_prob_clf)\n",
        "\n",
        "# Plot the ROC curve\n",
        "plt.plot(fpr, tpr)\n",
        "\n",
        "# Add labels and diagonal line\n",
        "plt.xlabel(\"False Positive Rate\")\n",
        "plt.ylabel(\"True Positive Rate\")\n",
        "plt.plot([0, 1], [0, 1], \"k--\")\n",
        "plt.show()\n"
      ],
      "execution_count": 0,
      "outputs": [
        {
          "output_type": "display_data",
          "data": {
            "image/png": "iVBORw0KGgoAAAANSUhEUgAAAYIAAAEGCAYAAABo25JHAAAABHNCSVQICAgIfAhkiAAAAAlwSFlz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\nvJwmAqWU8nKaCJRSysv9f7R3vXbXeAkgAAAAAElFTkSuQmCC\n",
            "text/plain": [
              "<Figure size 432x288 with 1 Axes>"
            ]
          },
          "metadata": {
            "tags": []
          }
        }
      ]
    },
    {
      "cell_type": "code",
      "metadata": {
        "id": "rxg3WOQsU9r6",
        "colab_type": "code",
        "outputId": "cfdb347f-7f23-4ee8-b645-a0f56f23fe37",
        "colab": {
          "base_uri": "https://localhost:8080/",
          "height": 34
        }
      },
      "source": [
        "print(roc_auc_score(y_test, y_pred_prob_clf))"
      ],
      "execution_count": 0,
      "outputs": [
        {
          "output_type": "stream",
          "text": [
            "0.8088469953152124\n"
          ],
          "name": "stdout"
        }
      ]
    },
    {
      "cell_type": "markdown",
      "metadata": {
        "id": "uaOQNZfGVJEG",
        "colab_type": "text"
      },
      "source": [
        "AUC is significantly higher in Random Forest Classifier as compared to our baseline logistic regression model. "
      ]
    },
    {
      "cell_type": "code",
      "metadata": {
        "id": "v15c7C-CVG-q",
        "colab_type": "code",
        "outputId": "88b3c00f-00f1-481c-f480-3fe815bde56a",
        "colab": {
          "base_uri": "https://localhost:8080/",
          "height": 34
        }
      },
      "source": [
        "# Tuning our model using gridsearch\n",
        "\n",
        "from sklearn.model_selection import GridSearchCV\n",
        "\n",
        "param_grid = {\"max_depth\": [3, None],\n",
        "              \"max_features\": [1, 3, 10],\n",
        "              \"bootstrap\": [True, False],\n",
        "              \"criterion\": [\"gini\", \"entropy\"]}\n",
        "\n",
        "# The n_estimators hyperparameter controls the number of trees to use in the forest, \n",
        "# max_features hyperparameter controls the number features the random forest should consider \n",
        "#when looking for the best split at decision tree.\n",
        "\n",
        "grid_search = GridSearchCV(RandomForestClassifier(), param_grid)\n",
        "grid_search.fit(X_train_up, y_train_up)\n",
        "print(grid_search.best_params_)"
      ],
      "execution_count": 0,
      "outputs": [
        {
          "output_type": "stream",
          "text": [
            "{'bootstrap': False, 'criterion': 'entropy', 'max_depth': None, 'max_features': 1}\n"
          ],
          "name": "stdout"
        }
      ]
    },
    {
      "cell_type": "code",
      "metadata": {
        "id": "U26alCRbZPzR",
        "colab_type": "code",
        "outputId": "b529a8bb-a5dc-49f4-c13d-625a38c09697",
        "colab": {
          "base_uri": "https://localhost:8080/",
          "height": 119
        }
      },
      "source": [
        "clf.feature_importances_"
      ],
      "execution_count": 0,
      "outputs": [
        {
          "output_type": "execute_result",
          "data": {
            "text/plain": [
              "array([0.03473275, 0.02594775, 0.02981058, 0.02620013, 0.00694612,\n",
              "       0.00648013, 0.02754415, 0.05916571, 0.0379817 , 0.03367529,\n",
              "       0.02808242, 0.02654361, 0.03364939, 0.02765722, 0.02894619,\n",
              "       0.04482641, 0.06788932, 0.0329874 , 0.0183822 , 0.04450096,\n",
              "       0.01520606, 0.02170309, 0.02721832, 0.01788114, 0.03665329,\n",
              "       0.23938866])"
            ]
          },
          "metadata": {
            "tags": []
          },
          "execution_count": 105
        }
      ]
    },
    {
      "cell_type": "code",
      "metadata": {
        "id": "HHzjCk52ZY3q",
        "colab_type": "code",
        "outputId": "e8e9ef1c-a8d0-41eb-aef2-64ca7641ff1f",
        "colab": {
          "base_uri": "https://localhost:8080/",
          "height": 265
        }
      },
      "source": [
        "importances = clf.feature_importances_\n",
        "\n",
        "# Sort importances\n",
        "sorted_index = np.argsort(importances)\n",
        "\n",
        "# Create labels\n",
        "labels = X_train_up.columns[sorted_index]\n",
        "\n",
        "# Create plot\n",
        "plt.barh(range(X_train_up.shape[1]), importances[sorted_index], tick_label=labels)\n",
        "plt.show()"
      ],
      "execution_count": 0,
      "outputs": [
        {
          "output_type": "display_data",
          "data": {
            "image/png": "iVBORw0KGgoAAAANSUhEUgAAAjgAAAD4CAYAAADhApxrAAAABHNCSVQICAgIfAhkiAAAAAlwSFlz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\nkiRJkiTpdfx/aS93lL0n7+YAAAAASUVORK5CYII=\n",
            "text/plain": [
              "<Figure size 432x288 with 1 Axes>"
            ]
          },
          "metadata": {
            "tags": []
          }
        }
      ]
    },
    {
      "cell_type": "markdown",
      "metadata": {
        "id": "xXyLci0XaHyn",
        "colab_type": "text"
      },
      "source": [
        "The plot tells us that MonthlyCharges is the most important driver of churn.\n",
        "\n",
        "\n",
        "\n"
      ]
    }
